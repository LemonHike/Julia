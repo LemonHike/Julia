{
 "cells": [
  {
   "cell_type": "markdown",
   "id": "876f95ad",
   "metadata": {},
   "source": [
    "# Julia Programming Structures\n",
    "\n",
    "In the following notebook I will give a brief overview of the main data structures in Julia. Namely:\n",
    " - Loops\n",
    " - Conditionals\n",
    " - Functions"
   ]
  },
  {
   "cell_type": "markdown",
   "id": "25de4cd8",
   "metadata": {},
   "source": [
    "## Loops\n",
    "***\n",
    "Julia provides basic loops operations (including breaks and continues)"
   ]
  },
  {
   "cell_type": "markdown",
   "id": "91a54a06",
   "metadata": {},
   "source": [
    "**The Basics**"
   ]
  },
  {
   "cell_type": "code",
   "execution_count": 1,
   "id": "6058b860",
   "metadata": {},
   "outputs": [],
   "source": [
    "# basic loop\n",
    "a = [1, 2, 3]\n",
    "for i in a\n",
    "   # do something\n",
    "end\n",
    "\n",
    "\n",
    "# loop with a break\n",
    "a = [1, 2, 3]\n",
    "for i in a\n",
    "   # do something until a condition is satisfied\n",
    "break end\n",
    "\n",
    "\n",
    "# loop with a continue\n",
    "a = [1, 2, 3]\n",
    "for i in a\n",
    "   # jump to next step of the iteration if a condition is satisfied\n",
    "continue end"
   ]
  },
  {
   "cell_type": "code",
   "execution_count": 4,
   "id": "d2eaaa47",
   "metadata": {},
   "outputs": [],
   "source": [
    "# nested loops, compact notation\n",
    "for i in 1:5, j in 1:10\n",
    "   # do something\n",
    "end\n",
    "\n",
    "#MatLab Notation\n",
    "for i = 1:10\n",
    "   # do something\n",
    "end"
   ]
  },
  {
   "cell_type": "markdown",
   "id": "8e385cc9",
   "metadata": {},
   "source": [
    "**Note**: In contrast with other languages, in Julia if the counter variable did not exist before the loop starts, it will be killed at the end of the loop."
   ]
  },
  {
   "cell_type": "markdown",
   "id": "3844c944",
   "metadata": {},
   "source": [
    "**List Comprehension**"
   ]
  },
  {
   "cell_type": "code",
   "execution_count": 5,
   "id": "a8c68485",
   "metadata": {},
   "outputs": [
    {
     "data": {
      "text/plain": [
       "5-element Vector{Float64}:\n",
       "  1.0\n",
       "  4.0\n",
       "  9.0\n",
       " 16.0\n",
       " 25.0"
      ]
     },
     "execution_count": 5,
     "metadata": {},
     "output_type": "execute_result"
    }
   ],
   "source": [
    "#Loops can be used to define arrays in comprehensions (a ruled-defined array)\n",
    "[n^2 for n in 1:5] # basic comprehensions \n",
    "Float64[n^2 for n in 1:5] # comprehension fixing type"
   ]
  },
  {
   "cell_type": "code",
   "execution_count": 6,
   "id": "bcdb94c3",
   "metadata": {},
   "outputs": [
    {
     "data": {
      "text/plain": [
       "5×5 Matrix{Int64}:\n",
       " 2  3  4  5   6\n",
       " 3  4  5  6   7\n",
       " 4  5  6  7   8\n",
       " 5  6  7  8   9\n",
       " 6  7  8  9  10"
      ]
     },
     "execution_count": 6,
     "metadata": {},
     "output_type": "execute_result"
    }
   ],
   "source": [
    "#This is a \"Julia\" way to create a Matrix\n",
    "m = 5\n",
    "n = 5\n",
    "C = [i+j for i in 1:m, j in 1:n]"
   ]
  },
  {
   "cell_type": "code",
   "execution_count": 7,
   "id": "fc2732fd",
   "metadata": {},
   "outputs": [
    {
     "data": {
      "text/plain": [
       "1×1 Matrix{Int64}:\n",
       " 2"
      ]
     },
     "metadata": {},
     "output_type": "display_data"
    },
    {
     "data": {
      "text/plain": [
       "2×2 Matrix{Int64}:\n",
       " 2  3\n",
       " 3  4"
      ]
     },
     "metadata": {},
     "output_type": "display_data"
    },
    {
     "data": {
      "text/plain": [
       "3×3 Matrix{Int64}:\n",
       " 2  3  4\n",
       " 3  4  5\n",
       " 4  5  6"
      ]
     },
     "metadata": {},
     "output_type": "display_data"
    },
    {
     "data": {
      "text/plain": [
       "4×4 Matrix{Int64}:\n",
       " 2  3  4  5\n",
       " 3  4  5  6\n",
       " 4  5  6  7\n",
       " 5  6  7  8"
      ]
     },
     "metadata": {},
     "output_type": "display_data"
    },
    {
     "data": {
      "text/plain": [
       "5×5 Matrix{Int64}:\n",
       " 2  3  4  5   6\n",
       " 3  4  5  6   7\n",
       " 4  5  6  7   8\n",
       " 5  6  7  8   9\n",
       " 6  7  8  9  10"
      ]
     },
     "metadata": {},
     "output_type": "display_data"
    }
   ],
   "source": [
    "#= we could also embed list comprehension in foor loop \n",
    "to generate of growing size\n",
    "=#\n",
    "\n",
    "for k in 1:5\n",
    "    A = [i+j for i in 1:k, j in 1:k]\n",
    "    display(A)\n",
    "end"
   ]
  },
  {
   "cell_type": "markdown",
   "id": "2c2c18a3",
   "metadata": {},
   "source": [
    "## Conditional and While Loops"
   ]
  },
  {
   "cell_type": "code",
   "execution_count": null,
   "id": "1c8bac0c",
   "metadata": {},
   "outputs": [],
   "source": [
    "if i <= N\n",
    "    # do something\n",
    "    elseif j > k\n",
    "        # do something else\n",
    "    else\n",
    "        # do something even more different\n",
    "end"
   ]
  },
  {
   "cell_type": "code",
   "execution_count": 17,
   "id": "7196d600",
   "metadata": {},
   "outputs": [
    {
     "data": {
      "text/plain": [
       "2"
      ]
     },
     "execution_count": 17,
     "metadata": {},
     "output_type": "execute_result"
    }
   ],
   "source": [
    "#if-else in short form\n",
    "# condition ? do something : do something\n",
    "a = 9\n",
    "a<2 ? b = 1 : b = 2"
   ]
  },
  {
   "cell_type": "code",
   "execution_count": 18,
   "id": "f71bdd19",
   "metadata": {},
   "outputs": [
    {
     "name": "stdout",
     "output_type": "stream",
     "text": [
      "Hi Ludovico, how are you?\n",
      "Hi Marco, how are you?\n",
      "Hi Giulia, how are you?\n",
      "Hi Matteo, how are you?\n"
     ]
    }
   ],
   "source": [
    "names = [\"Ludovico\",\"Marco\",\"Giulia\",\"Matteo\"]\n",
    "i = 1\n",
    "while i<= size(names)[1]\n",
    "    name = names[i]\n",
    "    println(\"Hi $name, how are you?\")\n",
    "    i += 1\n",
    "end"
   ]
  },
  {
   "cell_type": "markdown",
   "id": "aa5042d3",
   "metadata": {},
   "source": [
    "## Functions\n",
    "***\n",
    "Functions in Julia use methods with multiple dispatch: each function can be associated with hundreds of different methods. This implies that you can add methods to an already existing funciton. Generally speaking there are two ways to create a funciton."
   ]
  },
  {
   "cell_type": "markdown",
   "id": "902d0df4",
   "metadata": {},
   "source": [
    "### The Basics"
   ]
  },
  {
   "cell_type": "code",
   "execution_count": 19,
   "id": "e37741fc",
   "metadata": {},
   "outputs": [
    {
     "data": {
      "text/plain": [
       "1×3 Matrix{Int64}:\n",
       " 12  14  13"
      ]
     },
     "execution_count": 19,
     "metadata": {},
     "output_type": "execute_result"
    }
   ],
   "source": [
    "# One-Line\n",
    "myfunction1(var) = var+1\n",
    "\n",
    "#seferal lines\n",
    "function myfunction2(var1, var2, var3)\n",
    "    output1= var1 + 2\n",
    "    output2 = var2 + 4\n",
    "    output3 = var3+3\n",
    "    return [output1 output2 output3]\n",
    "end\n",
    "\n",
    "myfunction2(10,10,10)\n",
    "\n",
    "#note: the tab indentaiton is not required in Julia"
   ]
  },
  {
   "cell_type": "markdown",
   "id": "55e84754",
   "metadata": {},
   "source": [
    "Note: if we do not fix the argument-type, changing the above function will change the function call (i.e. the previous function will be deleted from memory and the newly defined one will take place). However, if we fix the argument-type and then we try to change it, we will not delete the previous function and add the newly defined one; instead, changing the argument-type will only a new method to the function call.\n",
    "\n",
    "\n",
    "**Thus: To have several methods associated to a function, you only need to specify the type of the operands:**"
   ]
  },
  {
   "cell_type": "code",
   "execution_count": 20,
   "id": "e1192f79",
   "metadata": {},
   "outputs": [
    {
     "data": {
      "text/plain": [
       "2.0"
      ]
     },
     "execution_count": 20,
     "metadata": {},
     "output_type": "execute_result"
    }
   ],
   "source": [
    "function myfunction3(var1::Int64, var2)\n",
    "        output1 = var1+var2\n",
    "end\n",
    "\n",
    "function myfunction3(var1::Float64, var2)\n",
    "output1 = var1/var2 \n",
    "end\n",
    "\n",
    "myfunction3(2,1) # returns 3\n",
    "myfunction3(2.0,1) # returns 3.0"
   ]
  },
  {
   "cell_type": "code",
   "execution_count": 22,
   "id": "f21a0196",
   "metadata": {},
   "outputs": [
    {
     "data": {
      "text/latex": [
       "\\begin{tabular}\n",
       "{l | r | l}\n",
       "name & size & summary \\\\\n",
       "\\hline\n",
       "Base &  & Module \\\\\n",
       "C & 240 bytes & 5×5 Matrix\\{Int64\\} \\\\\n",
       "Core &  & Module \\\\\n",
       "Main &  & Module \\\\\n",
       "a & 8 bytes & Int64 \\\\\n",
       "b & 8 bytes & Int64 \\\\\n",
       "i & 8 bytes & Int64 \\\\\n",
       "m & 8 bytes & Int64 \\\\\n",
       "myfunction1 & 0 bytes & myfunction1 (generic function with 1 method) \\\\\n",
       "myfunction2 & 0 bytes & myfunction2 (generic function with 1 method) \\\\\n",
       "myfunction3 & 0 bytes & myfunction3 (generic function with 2 methods) \\\\\n",
       "n & 8 bytes & Int64 \\\\\n",
       "names & 129 bytes & 4-element Vector\\{String\\} \\\\\n",
       "\\end{tabular}\n"
      ],
      "text/markdown": [
       "| name        |      size | summary                                       |\n",
       "|:----------- | ---------:|:--------------------------------------------- |\n",
       "| Base        |           | Module                                        |\n",
       "| C           | 240 bytes | 5×5 Matrix{Int64}                             |\n",
       "| Core        |           | Module                                        |\n",
       "| Main        |           | Module                                        |\n",
       "| a           |   8 bytes | Int64                                         |\n",
       "| b           |   8 bytes | Int64                                         |\n",
       "| i           |   8 bytes | Int64                                         |\n",
       "| m           |   8 bytes | Int64                                         |\n",
       "| myfunction1 |   0 bytes | myfunction1 (generic function with 1 method)  |\n",
       "| myfunction2 |   0 bytes | myfunction2 (generic function with 1 method)  |\n",
       "| myfunction3 |   0 bytes | myfunction3 (generic function with 2 methods) |\n",
       "| n           |   8 bytes | Int64                                         |\n",
       "| names       | 129 bytes | 4-element Vector{String}                      |\n"
      ],
      "text/plain": [
       "  name             size summary                                      \n",
       "  ––––––––––– ––––––––– –––––––––––––––––––––––––––––––––––––––––––––\n",
       "  Base                  Module                                       \n",
       "  C           240 bytes 5×5 Matrix{Int64}                            \n",
       "  Core                  Module                                       \n",
       "  Main                  Module                                       \n",
       "  a             8 bytes Int64                                        \n",
       "  b             8 bytes Int64                                        \n",
       "  i             8 bytes Int64                                        \n",
       "  m             8 bytes Int64                                        \n",
       "  myfunction1   0 bytes myfunction1 (generic function with 1 method) \n",
       "  myfunction2   0 bytes myfunction2 (generic function with 1 method) \n",
       "  myfunction3   0 bytes myfunction3 (generic function with 2 methods)\n",
       "  n             8 bytes Int64                                        \n",
       "  names       129 bytes 4-element Vector{String}                     "
      ]
     },
     "execution_count": 22,
     "metadata": {},
     "output_type": "execute_result"
    }
   ],
   "source": [
    "varinfo()\n",
    "\n",
    "# myfunction1 has 1 method\n",
    "# myfunction2 has 1 method\n",
    "# myfunction3 has 2 methods"
   ]
  },
  {
   "cell_type": "markdown",
   "id": "b5fac17c",
   "metadata": {},
   "source": [
    "#### Keyword Arguments"
   ]
  },
  {
   "cell_type": "markdown",
   "id": "8136cf96",
   "metadata": {},
   "source": [
    "Some functions need a large number of arguments, or have a large number of behaviors. Remembering how to call such functions can be difficult. Keyword arguments can make these complex interfaces easier to use and extend by allowing arguments to be identified by name instead of only by position.\n",
    " - Keyword arguments -> can be omitted and that can appear in any place of the funciton call.\n",
    " - Optional argument -> cannot be omitted and that cannot appear in any place of the funciton call."
   ]
  },
  {
   "cell_type": "code",
   "execution_count": 23,
   "id": "7f890aa6",
   "metadata": {},
   "outputs": [
    {
     "data": {
      "text/plain": [
       "myfunction4 (generic function with 1 method)"
      ]
     },
     "execution_count": 23,
     "metadata": {},
     "output_type": "execute_result"
    }
   ],
   "source": [
    "# Functions with keyword arguments are defined using a semicolon in the signature:\n",
    "function myfunction4(var1, var2; keyword=2)\n",
    "        output1 = var1+var2+keyword\n",
    "end\n",
    "\n",
    "#When the function is called, the semicolon is optional\n",
    "# - one can either call myfunction4(3,4;keyword =  5) (standard way) or myfunction4(3,4,keyword =  5)"
   ]
  },
  {
   "cell_type": "code",
   "execution_count": 32,
   "id": "4017caff",
   "metadata": {},
   "outputs": [
    {
     "name": "stdout",
     "output_type": "stream",
     "text": [
      "MethodError(var\"#myfunction4##kw\"(), ((var1 = 3, var2 = 4, keyword = 5), myfunction4), 0x0000000000007ed4)\n"
     ]
    }
   ],
   "source": [
    "myfunction4(3,4;keyword =  5) # works as intended\n",
    "myfunction4(keyword=5, 3, 4) # works as itended\n",
    "\n",
    "try\n",
    "    myfunction4(var1 = 3, var2 = 4;keyword =  5) #does not work\n",
    "catch e\n",
    "println(e)\n",
    "end"
   ]
  },
  {
   "cell_type": "markdown",
   "id": "5bca1901",
   "metadata": {},
   "source": [
    "**Note** :Functions can also return higher order functions"
   ]
  },
  {
   "cell_type": "code",
   "execution_count": 25,
   "id": "1681d72e",
   "metadata": {},
   "outputs": [
    {
     "data": {
      "text/plain": [
       "(::var\"#myfunction6#22\"{Int64}) (generic function with 1 method)"
      ]
     },
     "execution_count": 25,
     "metadata": {},
     "output_type": "execute_result"
    }
   ],
   "source": [
    "function myfunction5(var1)\n",
    "        function myfunction6(var2)\n",
    "                answer  = var1 + 2*var2\n",
    "                return answer\n",
    "        end\n",
    "        return myfunction6\n",
    "end\n",
    " \n",
    "a1 = myfunction5(1) # creates a function a1 that produces 1 + var2 \n",
    "a2 = myfunction5(2) # creates a function a2 that produces 2 + var2\n",
    "\n",
    "#= \n",
    "Basically a1 and a2 are themselves function:\n",
    "    a1 --> is equal to myfunction6 with fixed var1 = 1\n",
    "    a2 --> is equal to myfunction6 with fixed var1 = 2\n",
    "=#"
   ]
  },
  {
   "cell_type": "code",
   "execution_count": 26,
   "id": "03d39a83",
   "metadata": {},
   "outputs": [
    {
     "data": {
      "text/plain": [
       "10"
      ]
     },
     "execution_count": 26,
     "metadata": {},
     "output_type": "execute_result"
    }
   ],
   "source": [
    "a1(4) #returns 9\n",
    "a2(4) #returns 10"
   ]
  },
  {
   "cell_type": "markdown",
   "id": "ab1ce6e6",
   "metadata": {},
   "source": [
    "**Note**: The return type can be fixed"
   ]
  },
  {
   "cell_type": "code",
   "execution_count": 27,
   "id": "5e4bc45b",
   "metadata": {},
   "outputs": [
    {
     "data": {
      "text/plain": [
       "myfunction7 (generic function with 1 method)"
      ]
     },
     "execution_count": 27,
     "metadata": {},
     "output_type": "execute_result"
    }
   ],
   "source": [
    "function myfunction7(var1)::Float64\n",
    "        return output1 = var1+1.0\n",
    "end\n",
    "\n",
    "#myfunction7 will always return a float"
   ]
  },
  {
   "cell_type": "markdown",
   "id": "13585052",
   "metadata": {},
   "source": [
    "**Anonymous Functions (equivalent of lambda functions)**"
   ]
  },
  {
   "cell_type": "code",
   "execution_count": 28,
   "id": "940fb2a7",
   "metadata": {},
   "outputs": [
    {
     "data": {
      "text/plain": [
       "#25 (generic function with 1 method)"
      ]
     },
     "execution_count": 28,
     "metadata": {},
     "output_type": "execute_result"
    }
   ],
   "source": [
    "x ->x^2 # anonymous function --> to be used as lambda function\n",
    "a = x ->x^2 # named anonymous function"
   ]
  },
  {
   "cell_type": "code",
   "execution_count": 29,
   "id": "316c11c9",
   "metadata": {},
   "outputs": [
    {
     "data": {
      "text/plain": [
       "5-element Vector{Int64}:\n",
       "  1\n",
       "  4\n",
       "  9\n",
       " 16\n",
       " 25"
      ]
     },
     "execution_count": 29,
     "metadata": {},
     "output_type": "execute_result"
    }
   ],
   "source": [
    "array = [1, 2, 3, 4, 5]\n",
    "b = map(x -> x^2, array) # b = [1, 4, 9, 16, 25] #map is a sort of 'apply' function"
   ]
  },
  {
   "cell_type": "code",
   "execution_count": 30,
   "id": "6da5929b",
   "metadata": {},
   "outputs": [
    {
     "data": {
      "text/plain": [
       "100"
      ]
     },
     "execution_count": 30,
     "metadata": {},
     "output_type": "execute_result"
    }
   ],
   "source": [
    "a(10)"
   ]
  },
  {
   "cell_type": "markdown",
   "id": "4f682750",
   "metadata": {},
   "source": [
    "**Arrays of Functions**\n",
    "\n",
    "In Julia you can define arrays of functions"
   ]
  },
  {
   "cell_type": "code",
   "execution_count": 33,
   "id": "a703f3b9",
   "metadata": {},
   "outputs": [
    {
     "data": {
      "text/plain": [
       "2-element Vector{Function}:\n",
       " exp (generic function with 14 methods)\n",
       " abs (generic function with 11 methods)"
      ]
     },
     "execution_count": 33,
     "metadata": {},
     "output_type": "execute_result"
    }
   ],
   "source": [
    "a = [exp, abs]"
   ]
  },
  {
   "cell_type": "markdown",
   "id": "5c6eb334",
   "metadata": {},
   "source": [
    "### More Advanced Stuff"
   ]
  },
  {
   "cell_type": "markdown",
   "id": "3f313083",
   "metadata": {},
   "source": [
    "**Recursion**\n",
    "***\n",
    "Although Julia allows for recursion, it does not implement tail call (I've no idea of what this is)."
   ]
  },
  {
   "cell_type": "code",
   "execution_count": 34,
   "id": "3c3ca3c5",
   "metadata": {},
   "outputs": [
    {
     "data": {
      "text/plain": [
       "outer (generic function with 1 method)"
      ]
     },
     "execution_count": 34,
     "metadata": {},
     "output_type": "execute_result"
    }
   ],
   "source": [
    "function outer(a)\n",
    "        b = a +2\n",
    "        function inner(b)\n",
    "            b = a+3\n",
    "        end \n",
    "inner(b)\n",
    "    end"
   ]
  },
  {
   "cell_type": "code",
   "execution_count": 35,
   "id": "8f392a62",
   "metadata": {},
   "outputs": [
    {
     "data": {
      "text/plain": [
       "fib (generic function with 1 method)"
      ]
     },
     "execution_count": 35,
     "metadata": {},
     "output_type": "execute_result"
    }
   ],
   "source": [
    "fib(n) = n < 2 ? n : fib(n-1) + fib(n-2)"
   ]
  },
  {
   "cell_type": "markdown",
   "id": "131f9910",
   "metadata": {},
   "source": [
    "#### Closures"
   ]
  },
  {
   "cell_type": "code",
   "execution_count": 36,
   "id": "b3d538d8",
   "metadata": {},
   "outputs": [
    {
     "data": {
      "text/plain": [
       "2"
      ]
     },
     "execution_count": 36,
     "metadata": {},
     "output_type": "execute_result"
    }
   ],
   "source": [
    "function counter() \n",
    "    n=0\n",
    "    () -> n += 1\n",
    "end\n",
    "# we name it\n",
    "\n",
    "addOne = counter()\n",
    "addOne() # Produces 1 \n",
    "addOne() # Produces 2"
   ]
  },
  {
   "cell_type": "markdown",
   "id": "57fadc3b",
   "metadata": {},
   "source": [
    "#### Currying\n",
    "***\n",
    "Currying transforms the evaluation of a function with multiple arguments into the evaluation of a sequence of functions, each with a single argument. Currying allows for easier reuse of abstract functions and to avoid determining parameters that are not required at the moment of evaluation.\n",
    "For example, currying a function f that takes three arguments creates a nested unary function g, so that the code:\n",
    " - x = f(a,b,c)\n",
    " \n",
    " \n",
    "gives the same result as:\n",
    "\n",
    "\n",
    " - h = g(a)\n",
    " - i = h(b)\n",
    " - x = i(c)"
   ]
  },
  {
   "cell_type": "code",
   "execution_count": 37,
   "id": "35050cf4",
   "metadata": {},
   "outputs": [
    {
     "data": {
      "text/plain": [
       "mult (generic function with 1 method)"
      ]
     },
     "execution_count": 37,
     "metadata": {},
     "output_type": "execute_result"
    }
   ],
   "source": [
    "function mult(a)\n",
    "    return function f(b)\n",
    "        return a*b\n",
    "    end \n",
    "end"
   ]
  },
  {
   "cell_type": "markdown",
   "id": "cfaac9af",
   "metadata": {},
   "source": [
    "**Note**: You can see the bitcode generated by some of these functions with:"
   ]
  },
  {
   "cell_type": "code",
   "execution_count": null,
   "id": "4591e211",
   "metadata": {},
   "outputs": [],
   "source": [
    "code_llvm(x ->x^2, (Float64,)) #Returns the Bitcode"
   ]
  },
  {
   "cell_type": "code",
   "execution_count": null,
   "id": "be4005e6",
   "metadata": {},
   "outputs": [],
   "source": [
    "code_native(x ->x^2, (Float64,)) #Returns the Assembly code"
   ]
  },
  {
   "cell_type": "markdown",
   "id": "7c29c772",
   "metadata": {},
   "source": [
    "**MapReduce**\n",
    "***\n",
    "By deafault, Julia supports generic function applicators."
   ]
  },
  {
   "cell_type": "code",
   "execution_count": 38,
   "id": "5b6901ee",
   "metadata": {},
   "outputs": [
    {
     "data": {
      "text/plain": [
       "2-element Vector{Int64}:\n",
       "  7\n",
       " 10"
      ]
     },
     "execution_count": 38,
     "metadata": {},
     "output_type": "execute_result"
    }
   ],
   "source": [
    "map(floor,[1.2, 5.6, 2.3]) # applies floor to vector [1.2, 5.6, 2.3] \n",
    "\n",
    "# An alternative syntax is with do-end\n",
    "map([1.2, 5.6, 2.3]) do x\n",
    "        floor(x)\n",
    "end\n",
    "\n",
    "\n",
    "map(x ->x^2,[1.2, 5.6, 2.3]) # applies abstract to vector [1.2, 5.6, 2.3]\n",
    "\n",
    "# map also works for multiple inputs\n",
    "map((x,y) ->x+2*y,[1,2], [3,4])"
   ]
  },
  {
   "cell_type": "code",
   "execution_count": 39,
   "id": "e922a0d7",
   "metadata": {},
   "outputs": [
    {
     "data": {
      "text/plain": [
       "2"
      ]
     },
     "execution_count": 39,
     "metadata": {},
     "output_type": "execute_result"
    }
   ],
   "source": [
    "# Second, we have reduce and associated folding functions\n",
    "reduce(+,[1,2,3]) # generic reduce\n",
    "foldl(-,[1,2,3]) # folding (reduce) from the left\n",
    "foldr(-,[1,2,3]) # folding (reduce) from the right"
   ]
  },
  {
   "cell_type": "code",
   "execution_count": 40,
   "id": "be4a71b6",
   "metadata": {},
   "outputs": [
    {
     "data": {
      "text/plain": [
       "10"
      ]
     },
     "execution_count": 40,
     "metadata": {},
     "output_type": "execute_result"
    }
   ],
   "source": [
    "#Third we can directly apply MapReduce\n",
    "mapreduce(x->x^2, +, [1,3])"
   ]
  },
  {
   "cell_type": "code",
   "execution_count": 41,
   "id": "9551615c",
   "metadata": {},
   "outputs": [
    {
     "data": {
      "text/plain": [
       "2-element Vector{Int64}:\n",
       " 1\n",
       " 5"
      ]
     },
     "execution_count": 41,
     "metadata": {},
     "output_type": "execute_result"
    }
   ],
   "source": [
    "#The filter function\n",
    "a = [1,5,8,10,12]\n",
    "filter(isodd,a) # select odd elements of a"
   ]
  }
 ],
 "metadata": {
  "kernelspec": {
   "display_name": "Julia 1.8.5",
   "language": "julia",
   "name": "julia-1.8"
  },
  "language_info": {
   "file_extension": ".jl",
   "mimetype": "application/julia",
   "name": "julia",
   "version": "1.8.5"
  }
 },
 "nbformat": 4,
 "nbformat_minor": 5
}
