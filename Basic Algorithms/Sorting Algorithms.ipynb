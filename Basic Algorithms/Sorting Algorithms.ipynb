{
 "cells": [
  {
   "cell_type": "markdown",
   "id": "6332c9de",
   "metadata": {},
   "source": [
    "# Sorting Algorithms\n",
    "***\n",
    "Sorting Algorithms solve the so-called \"sorting problem\":\n",
    " - **Input**: A sequence of n numbers ($a_1,a_2,...,a_n$)\n",
    " - **Output**: A permutation (reordering) ($a_1',a_2',...,a_n'$) such that $a_1'≤a_2'≤,...,a_n'$.\n",
    "\n",
    "\n",
    "In the following notebook, I will try to code and analyze the most common sorting agorithms:\n",
    " - **Insertion Sort**\n",
    " - **Merge Sort**\n",
    " - **Quick Sort**"
   ]
  },
  {
   "attachments": {},
   "cell_type": "markdown",
   "id": "2e89c5a5",
   "metadata": {},
   "source": [
    "## Insertion Sort\n",
    "\n",
    "**The idea**:\n",
    "\n",
    "Imaging havening a deck of cards.\n",
    "***\n",
    "<div>\n",
    "<img src=\"Images/deck.jpg\" width=\"200\" align=\"center\"//>\n",
    "</div>\n",
    "\n",
    "***\n",
    "A natural way to do sort the deck in order is the following:\n",
    " - Pick the first card from the deck and place place it in your hand.\n",
    " - Pick the second card, compare it with the card in your hand and place it in the right order.\n",
    " - Pick another card at compare it with the cards in your hand from left to right and place it in the right order.\n",
    " - Continue until the deck is empty.\n",
    " \n",
    "Voilà, all the cards in your hand are sorted. \n",
    "\n",
    "Note: at each point in time, the cards in your hand are sorted."
   ]
  },
  {
   "attachments": {},
   "cell_type": "markdown",
   "id": "84191781",
   "metadata": {},
   "source": [
    "**The Algorithm**:\n",
    "\n",
    "Now, insted of having a deck of cards we have a list of numbers. The procedure is still the same:\n",
    " - Pick the first number in the list\n",
    " - Pick the second number, compare it to the first and place it in order. \n",
    " - Pick the third number, compare it to the first two from left to right and place it in order.\n",
    " - Continue until all the numbers in the list have been picked\n",
    "***\n",
    "<div>\n",
    "<img src=\"Images/Insertion%20Sort.png\" width=\"500\" align=\"center\"//>\n",
    "</div>\n",
    "\n",
    "***\n",
    "\n",
    "**The Performance**:\n",
    "\n",
    "\n",
    "The worst case running time of Insertion Sort is $\\Theta(n^2)$.\n",
    "\n",
    "Thus, Insertion Sort is actually a good algorithm for sorting a small array on numbers but it is quite inefficent for larger arrays. "
   ]
  },
  {
   "cell_type": "markdown",
   "id": "2feaa1c6",
   "metadata": {},
   "source": [
    "**Implementation In Julia**:"
   ]
  },
  {
   "cell_type": "code",
   "execution_count": 1,
   "id": "0b75d6f8",
   "metadata": {
    "scrolled": true
   },
   "outputs": [
    {
     "data": {
      "text/plain": [
       "Insertion_Sort (generic function with 1 method)"
      ]
     },
     "execution_count": 1,
     "metadata": {},
     "output_type": "execute_result"
    }
   ],
   "source": [
    "function Insertion_Sort(array)\n",
    "    for i in 1:size(array)[1] #we loop over the entire array\n",
    "        j = i  #element i represents the card(s) in our hand, element j is the card from the deck\n",
    "        while j>1 && (array[j-1] > array[j]) #if element j-1 is larger than element j...\n",
    "            array[j-1],array[j] = array[j],array[j-1] #we swap them\n",
    "            j = j-1\n",
    "        end\n",
    "    end\n",
    "    return array\n",
    "end"
   ]
  },
  {
   "attachments": {},
   "cell_type": "markdown",
   "id": "c1feed95",
   "metadata": {},
   "source": [
    "## Merge Sort\n",
    "\n",
    "**The Idea**:\n",
    "\n",
    "Merge Sort is a sorting algorithm that was invented by John von Neumann in 1945. As the  algorithms follows a divide and conquer paradigm, the problem is divided into subproblems, the subproblems are solved and the solutions are merged together.\n",
    "\n",
    "Let's start again with our deck of cards. This time, we proceed as follows:\n",
    "\n",
    "**Divide**\n",
    "\n",
    " - We take our deck and split it in two\n",
    " - We take the two smaller decks and split them in two\n",
    " - We continue until each subdeck is made of one card.\n",
    "\n",
    "<div>\n",
    "<img src=\"Images/Cards.jpg\" width=\"200\" align=\"center\"//>\n",
    "</div>\n",
    " \n",
    "**Conquer**\n",
    " - Now, we begin the **Merging** Procedure. We pick pairs of cards and merge them in order. We have n/2 ordered pairs of cards.\n",
    " - We pick 2 pairs and merge them in order. Now we have n/4 ordered subdecks of size 4.\n",
    " - We continue this procedure until we have merged all the subdecks.\n",
    " \n",
    "Voilà, we have a deck of ordered cards.\n"
   ]
  },
  {
   "attachments": {},
   "cell_type": "markdown",
   "id": "b0994e1d",
   "metadata": {},
   "source": [
    "**The Algorithm**:\n",
    "\n",
    "Conceptually, the merge sort algorithm works as follows:\n",
    "\n",
    " - Divide the unsorted list into n sublists, each containing one element (a list of one element is considered sorted).\n",
    " - Repeatedly merge sublists to produce new sorted sublists until there is only one sublist remaining. This will be the sorted list.\n",
    "\n",
    "***\n",
    "<div>\n",
    "<img src=\"Images/MergeSort.svg.png\" width=\"200\" align=\"center\"//>\n",
    "</div>\n",
    "\n",
    "***\n",
    "\n",
    "The above figure portaits the implementation of the Merge Sort algorithm. In red we have the Divide step and in Green we have the Conquer step."
   ]
  },
  {
   "cell_type": "markdown",
   "id": "c019078f",
   "metadata": {},
   "source": [
    "**The Performance**:\n",
    "\n",
    "During the divide step, we split the $n$ array into $log(n)$ arrays. Thus, the running time of the divide step is $O(log(n))$. Regarding the conquer step, merging all the sublists into a list takes $O(n)$ time. Thus, the worst case running time of Merge Sort is $O(n \\ log(n))$ which for larger arrays is much faster than Insertion Sort.\n",
    "\n",
    "**Implementation In Julia**:"
   ]
  },
  {
   "cell_type": "code",
   "execution_count": 2,
   "id": "d39cea2e",
   "metadata": {},
   "outputs": [
    {
     "data": {
      "text/plain": [
       "Merge (generic function with 1 method)"
      ]
     },
     "execution_count": 2,
     "metadata": {},
     "output_type": "execute_result"
    }
   ],
   "source": [
    "#First We define the function for the conquer step(i.e. the function to merge the subarrays)\n",
    "\n",
    "function Merge(a1,a2) #the funciton takes two arrays\n",
    "    C = []                                     #we generate an empy array C\n",
    "    while size(a1)[1] != 0 && size(a2)[1] != 0 # while the size of both arrays is different from zero...\n",
    "        if a1[1] < a2[1]                       # we confront the first elements of the two arrays...\n",
    "            push!(C, popfirst!(a1))            # if the element of a1 is larger, we append it to C\n",
    "        else \n",
    "            push!(C, popfirst!(a2))            # else, we append the element of a2\n",
    "        end \n",
    "    end\n",
    "    while size(a1)[1] != 0                     # while the size of the a1 is != 0 and size a2 == 0\n",
    "        push!(C, popfirst!(a1))                # we append a1 to C\n",
    "    end \n",
    "    while size(a2)[1] != 0                     # while the size of the a2 is != 0 and size a1 == 0\n",
    "        push!(C, popfirst!(a2))                # we append a2 to C\n",
    "    end \n",
    "    return C                                   # The array C contains the elements of a1 and a2 sorted\n",
    "end            "
   ]
  },
  {
   "cell_type": "code",
   "execution_count": 3,
   "id": "f4761228",
   "metadata": {},
   "outputs": [
    {
     "data": {
      "text/plain": [
       "Merge_Sort (generic function with 1 method)"
      ]
     },
     "execution_count": 3,
     "metadata": {},
     "output_type": "execute_result"
    }
   ],
   "source": [
    "#Next, we define the merge sort algorithm. As it is a divide and conquer algorithm, we can code it using recursion\n",
    "\n",
    "function Merge_Sort(array) #the function takes an array\n",
    "    n = size(array)[1]     \n",
    "    if n == 1\n",
    "        return array             #if the size of the array is equal to 1, we return the array (pretty obvious)\n",
    "    end \n",
    "    left = array[1:div(n,2)]     #now we split the array into 2 subarrays, left and right\n",
    "    right = array[div(n,2)+1:n]\n",
    "    left = Merge_Sort(left)      # we call merge sort recursively on the left subarray \n",
    "    right = Merge_Sort(right)    # we call merge sort recursively on the right subarray\n",
    "    final =  Merge(left, right)  # finally, we merge the two subarrays using the Merge.\n",
    "    return final\n",
    "end\n",
    "\n",
    "#=\n",
    "What is the trick of the algorithm?\n",
    "Well, say that the array we want to sort is [1,-1,3,-10]\n",
    "\n",
    "Merge_Sort([1,-1,3,-10])\n",
    "    n = 4\n",
    "    left = [1,-1]\n",
    "    right = [3,-10]\n",
    "\n",
    "    left =Merge_Sort([1,-1])  First Recursion Call\n",
    "            n = 2\n",
    "            left = [1]\n",
    "            right = [-1] \n",
    "            left = Merge_Sort([1])  returns [1] (n=1)   Second Recursion Call\n",
    "            right= Merge_Sort([-1]) returns [-1] (n=1)  Third Recursion Call\n",
    "            final = Merge([1],[-1]) reutrns [-1,1]\n",
    "\n",
    "    right = Merge_Sort([3,-10]) = [-10,3] Fourth Recursion Call (Same Logic as above)\n",
    "    final = Merge([-1,1],[-10,3]) returs [-10,-1,1,3]\n",
    "=#"
   ]
  },
  {
   "cell_type": "markdown",
   "id": "98cb025c",
   "metadata": {},
   "source": [
    "## Quick Sort\n",
    "\n",
    "**The Idea**\n",
    "Just like Merge Sort, Quicksort applies the divide-and-conquer paradigm. \n",
    "\n",
    "Again, imagine that we have a deck of cards that we want to sort. What magic are we going to apply now?\n",
    "\n",
    " - Pick one card q from the deck \n",
    "     - Partition the deck into two smaller decks (left, right) such that:\n",
    "         - the cards in the left sub-deck are ≤ then the card q\n",
    "         - the cards in the right sub-deck are ≥ then the card q\n",
    "             - Place the elements on the table as follows : left -- q -- right\n",
    " - Pick two other cards from the sub-decks (c1 from left and c2 from right)\n",
    "     - Partition the deck on the left into two smaller decks (left1, right1) such that:\n",
    "          - the cards in left1 are ≤ then  c1\n",
    "          - the cards in right1 are ≥ then c1\n",
    "     - Partition the deck on the right into two smaller decks (left2, right2) such that: \n",
    "          - the cards in the left2 sub-sub-deck are ≤ then the card c2\n",
    "          - the cards in the right2 sub-sub-deck are ≥ then the card c2\n",
    "             - Place the elements on the table as follows : left1 -- c1 -- right1 -- q -- left2 -- c2 -- right2\n",
    " - Continue this procedure until all the sub-decs are of size one. \n",
    " - Look at your table. WOW, the cards are sorted!!\n",
    " \n",
    "***\n",
    "This procedure looks silly, why does it work?\n",
    "\n",
    "Consider the first partition, we have: \n",
    " - a card q\n",
    " - a left sub-deck whose elements are ≤ then q\n",
    " - a right sub-deck whose elements are ≥ then q. \n",
    " \n",
    "Imagine that you merge these elements as follows: you take the right sub-deck, place the card q on top of it and then place the left sub-deck on top of q. <br>\n",
    "Now, what is special about this new deck? Well, ***the card q is in the correct final position***. That is, even if we sort the whole deck, the card q will be in the same position because all the cards before q are ≤ q (as they belong to the left sub-deck) and all the cards after q are ≥ q as they belong to the right sub-deck.\n",
    "***\n",
    "\n",
    "**The Algorithm**\n",
    "Cards aside, the merge sort algorithm follows a three step process: \n",
    " - **Divide**: Partition the array A[p..r] into two subarrays A[p...q-1] and A[q+1...r] such that A[p...q-1] ≤ q ≤ A[q+1...r]. Compute the index of q as part of this procedure. \n",
    " - **Conquer**: Sort the two subarrays A[p...q-1] and A[q+1...r] by recursive calls to quicksort. \n",
    " - **Combine**: Because the subarrays are already sorted, no work is needed to combine them: the entire array A[p..r] is now sorted.\n",
    "   \n",
    "     \n",
    "**Performance**\n",
    "\n",
    "The worst case running time of Quick Sort is $\\Theta(n^2)$ which is no better than Insertion Sort. However, the average case running time is $O(n\\ log(n))$.\n",
    "\n",
    "Despite mergesort has a better worst case performance, quicksort is considered better than mergesort because: \n",
    " - Quick Sort requires less space (Quicksort is in-place, whereas mergesort is not)-\n",
    " - It’s very easy to avoid quicksort’s worst-case run time of $\\Theta(n^2)$ almost entirely by using an appropriate choice of the pivot – such as picking it at random \n",
    " \n",
    "**Implementation In Julia**:"
   ]
  },
  {
   "cell_type": "code",
   "execution_count": 4,
   "id": "c7988eb9",
   "metadata": {
    "scrolled": true
   },
   "outputs": [
    {
     "data": {
      "text/plain": [
       "Partition (generic function with 1 method)"
      ]
     },
     "execution_count": 4,
     "metadata": {},
     "output_type": "execute_result"
    }
   ],
   "source": [
    "#First, we code the partition function which rearrenges the subarray A[p..r] in place\n",
    "\n",
    "function Partition(array,p,r)\n",
    "    x = copy(array[r])\n",
    "    i = p-1\n",
    "    for j in p:r-1\n",
    "        if array[j] <= x\n",
    "            i = i+1\n",
    "            swap = copy(array[i])\n",
    "            array[i] = array[j]\n",
    "            array[j] = swap\n",
    "        end\n",
    "    end\n",
    "    swap = copy(array[i+1])\n",
    "    array[i+1] = array[r]\n",
    "    array[r] = swap\n",
    "    return i+1\n",
    "end"
   ]
  },
  {
   "cell_type": "code",
   "execution_count": 5,
   "id": "c46a370f",
   "metadata": {},
   "outputs": [
    {
     "data": {
      "text/plain": [
       "Quick_Sort (generic function with 1 method)"
      ]
     },
     "execution_count": 5,
     "metadata": {},
     "output_type": "execute_result"
    }
   ],
   "source": [
    "#Then, we write the Quick Sort Funciton\n",
    "\n",
    "function Quick_Sort(array,p,r)\n",
    "    if p < r\n",
    "        q = Partition(array,p,r)\n",
    "        Quick_Sort(array,p,q-1)\n",
    "        Quick_Sort(array,q+1,r)\n",
    "    end\n",
    "#    return array\n",
    "end"
   ]
  },
  {
   "cell_type": "markdown",
   "id": "f174a4fd",
   "metadata": {},
   "source": [
    "**Quick Sort with random pivoting**"
   ]
  },
  {
   "cell_type": "code",
   "execution_count": 6,
   "id": "9048795d",
   "metadata": {},
   "outputs": [
    {
     "data": {
      "text/plain": [
       "Partition_r (generic function with 1 method)"
      ]
     },
     "execution_count": 6,
     "metadata": {},
     "output_type": "execute_result"
    }
   ],
   "source": [
    "function Partition_r(array, p, r)\n",
    "    piv = rand(p:r)\n",
    "    array[piv], array[r] = array[r], array[piv]\n",
    "    return Partition(array, p, r)\n",
    "end"
   ]
  },
  {
   "cell_type": "code",
   "execution_count": 7,
   "id": "6b21de82",
   "metadata": {},
   "outputs": [
    {
     "data": {
      "text/plain": [
       "Quick_Sort_rand (generic function with 1 method)"
      ]
     },
     "execution_count": 7,
     "metadata": {},
     "output_type": "execute_result"
    }
   ],
   "source": [
    "function Quick_Sort_rand(array,p,r)\n",
    "    if p < r\n",
    "        q = Partition_r(array,p,r)\n",
    "        Quick_Sort_rand(array,p,q-1)\n",
    "        Quick_Sort_rand(array,q+1,r)\n",
    "    end\n",
    "#    return array\n",
    "end"
   ]
  },
  {
   "cell_type": "markdown",
   "id": "dc58eccd",
   "metadata": {},
   "source": [
    "## Benchmarking"
   ]
  },
  {
   "cell_type": "markdown",
   "id": "1efb7dac",
   "metadata": {},
   "source": [
    "#### Helper function: benchmarking"
   ]
  },
  {
   "cell_type": "code",
   "execution_count": 8,
   "id": "492d7a11",
   "metadata": {},
   "outputs": [
    {
     "data": {
      "text/plain": [
       "benchmarking (generic function with 2 methods)"
      ]
     },
     "execution_count": 8,
     "metadata": {},
     "output_type": "execute_result"
    }
   ],
   "source": [
    "function benchmarking(func,iter, worst = false)\n",
    "    times = []\n",
    "    array_size = []\n",
    "    for i in 1:iter\n",
    "        sum = 0\n",
    "        for k in 1:1000\n",
    "            if worst == true\n",
    "                array = sort(rand(-100000:100000, 20*i), rev = true)\n",
    "            else \n",
    "                array = rand(-100000:100000, 20*i)\n",
    "            end\n",
    "            t = @timed func(array)\n",
    "            sum += t.time\n",
    "        end\n",
    "        mean = sum/1000\n",
    "        push!(array_size, 20*i)\n",
    "        push!(times,mean)\n",
    "    end\n",
    "    return array_size,times\n",
    "end"
   ]
  },
  {
   "cell_type": "code",
   "execution_count": 9,
   "id": "13083d89",
   "metadata": {},
   "outputs": [
    {
     "data": {
      "text/plain": [
       "benchmarking_quick (generic function with 2 methods)"
      ]
     },
     "execution_count": 9,
     "metadata": {},
     "output_type": "execute_result"
    }
   ],
   "source": [
    "function benchmarking_quick(func,iter, worst = false)\n",
    "    times = []\n",
    "    array_size = []\n",
    "    for i in 1:iter\n",
    "        sum = 0\n",
    "        for k in 1:1000\n",
    "            if worst == true\n",
    "                array = sort(rand(-100000:100000, 20*i), rev = true)\n",
    "            else \n",
    "                array = rand(-100000:100000, 20*i)\n",
    "            end\n",
    "            t = @timed func(array,1,20*i)\n",
    "            sum += t.time\n",
    "        end\n",
    "        mean = sum/1000\n",
    "        push!(array_size, 20*i)\n",
    "        push!(times,mean)\n",
    "    end\n",
    "    return array_size,times\n",
    "end"
   ]
  },
  {
   "cell_type": "code",
   "execution_count": 10,
   "id": "3737b6b2",
   "metadata": {},
   "outputs": [],
   "source": [
    "#using Pkg\n",
    "#Pkg.add(\"Plots\")\n",
    "#Note: Uncomment the lines above to install the plotting package\n",
    "\n",
    "using Plots\n",
    "#plotlyjs()"
   ]
  },
  {
   "cell_type": "code",
   "execution_count": null,
   "id": "5645c8ca",
   "metadata": {},
   "outputs": [],
   "source": [
    "sizes = 100\n",
    "array_size_ins, times_ins = benchmarking(Insertion_Sort,sizes)\n",
    "array_size_ms, times_ms = benchmarking(Merge_Sort,sizes)\n",
    "array_size_qs, times_qs = benchmarking_quick(Quick_Sort,sizes)\n",
    "array_size_qs_r, times_qs_r = benchmarking_quick(Quick_Sort_rand,sizes)\n",
    "array_size_ins_w, times_ins_w = benchmarking(Insertion_Sort,sizes, true)\n",
    "array_size_ms_w, times_ms_w = benchmarking(Merge_Sort,sizes, true)\n",
    "array_size_qs_w, times_qs_w = benchmarking_quick(Quick_Sort,sizes, true)\n",
    "array_size_qs_wr, times_qs_wr = benchmarking_quick(Quick_Sort_rand,sizes,true)\n",
    "\"\""
   ]
  },
  {
   "cell_type": "code",
   "execution_count": null,
   "id": "9a4e242c",
   "metadata": {
    "scrolled": false
   },
   "outputs": [],
   "source": [
    "using Plots\n",
    "scatter(array_size_ins, times_ins, label = \"Insertion Sort\")\n",
    "scatter!(array_size_ms, times_ms, label = \"Merge Sort\")\n",
    "scatter!(array_size_qs, times_qs, label = \"Quick Sort\")\n",
    "scatter!(array_size_qs_r, times_qs_r, label = \"Quick Sort (Randomized)\")\n",
    "p1 = plot!(size= (600,400))\n",
    "title!(\"Benchmarking - Average Case\")\n",
    "xlabel!(\"Size\")\n",
    "ylabel!(\"Time\")\n",
    "scatter(array_size_ins_w ,times_ins_w, label = \"Insertion Sort\")\n",
    "scatter!(array_size_ms_w, times_ms_w, label = \"Merge Sort\")\n",
    "scatter!(array_size_qs_w, times_qs_w, label = \"Quick Sort\")\n",
    "scatter!(array_size_qs_wr, times_qs_wr, label = \"Quick Sort (Randomized)\")\n",
    "p2 = plot!(size= (600,400), legend = true)\n",
    "title!(\"Benchmarking - Worst Case\")\n",
    "xlabel!(\"Size\")\n",
    "ylabel!(\"Time\")\n",
    "h = plot!(p1,p2, layout = (1,2),size= (950,400), legend=:topleft)\n",
    "display(h)"
   ]
  },
  {
   "cell_type": "markdown",
   "id": "05512453",
   "metadata": {},
   "source": [
    "**Conclusions**\n",
    "***\n",
    "The algorithms show the expected behaviors both in Worst and Average case running time. \n",
    "\n",
    "**Note**: As expected, the Worst case running time of Merge Sort ($O(n \\ log(n))$) is much better than the worst case running time of Quick Sort ($O(n^2)$). However, by randomizing the pivoting element, we can easily avoid the worst case running time, obtaining a much better performance than Merge Sort. ***Thus, randomized quick sort is preferable to merge sort both in terms of efficiency and memory allocation.***\n"
   ]
  }
 ],
 "metadata": {
  "kernelspec": {
   "display_name": "Julia 1.8.5",
   "language": "julia",
   "name": "julia-1.8"
  },
  "language_info": {
   "file_extension": ".jl",
   "mimetype": "application/julia",
   "name": "julia",
   "version": "1.8.5"
  }
 },
 "nbformat": 4,
 "nbformat_minor": 5
}
