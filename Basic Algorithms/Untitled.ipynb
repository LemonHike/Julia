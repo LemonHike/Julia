{
 "cells": [
  {
   "cell_type": "code",
   "execution_count": 1,
   "id": "87c06d0b",
   "metadata": {},
   "outputs": [
    {
     "data": {
      "text/plain": [
       "Quick_Sort (generic function with 1 method)"
      ]
     },
     "execution_count": 1,
     "metadata": {},
     "output_type": "execute_result"
    }
   ],
   "source": [
    "#Then, we write the Quick Sort Funciton\n",
    "\n",
    "function Quick_Sort(array,p,r)\n",
    "    if p<r\n",
    "        q = Partition(array,p,r)\n",
    "        Quick_Sort(array,p,q-1)\n",
    "        Quick_Sort(array,q+1,r)\n",
    "    end\n",
    "    return array\n",
    "end\n",
    "\n",
    "function Partition_r(array, p, r)\n",
    "    piv = rand(p:r)\n",
    "    array[piv], array[r] = array[r], array[piv]\n",
    "    return Partition(array, p, r)\n",
    "end"
   ]
  },
  {
   "cell_type": "code",
   "execution_count": null,
   "id": "3080701d",
   "metadata": {},
   "outputs": [],
   "source": [
    "function Partition_r(array, p, r)\n",
    "    piv = rand(p:r)\n",
    "    array[piv], array[r] = array[r], array[piv]\n",
    "    return Partition(array, p, r)\n",
    "end"
   ]
  }
 ],
 "metadata": {
  "kernelspec": {
   "display_name": "Julia 1.8.5",
   "language": "julia",
   "name": "julia-1.8"
  },
  "language_info": {
   "file_extension": ".jl",
   "mimetype": "application/julia",
   "name": "julia",
   "version": "1.8.5"
  }
 },
 "nbformat": 4,
 "nbformat_minor": 5
}
