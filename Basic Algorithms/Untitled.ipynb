{
 "cells": [
  {
   "cell_type": "code",
   "execution_count": null,
   "id": "2a11d7c4",
   "metadata": {},
   "outputs": [],
   "source": [
    "function Quick_Sort(array,p,r)\n",
    "    l = j\n",
    "    if p<r\n",
    "        q = Partition(array,p,r)\n",
    "        Quick_Sort(array,p,q-1)\n",
    "        Quick_Sort(array,q+1,r)\n",
    "    end\n",
    "    return array\n",
    "end"
   ]
  },
  {
   "cell_type": "code",
   "execution_count": null,
   "id": "82c27dbe",
   "metadata": {},
   "outputs": [],
   "source": [
    "function Partition_r(array, p, r)\n",
    "    piv = rand(p:r)\n",
    "    array[piv], array[r] = array[r], array[piv]\n",
    "    return Partition(array, p, r)\n",
    "end"
   ]
  }
 ],
 "metadata": {
  "kernelspec": {
   "display_name": "Julia 1.8.5",
   "language": "julia",
   "name": "julia-1.8"
  },
  "language_info": {
   "file_extension": ".jl",
   "mimetype": "application/julia",
   "name": "julia",
   "version": "1.8.5"
  }
 },
 "nbformat": 4,
 "nbformat_minor": 5
}
