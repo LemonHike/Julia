{
 "cells": [
  {
   "cell_type": "markdown",
   "id": "61380d07",
   "metadata": {},
   "source": [
    "# Data Structures\n",
    "\n",
    "In the following notebook I will give a brief overview of the main data structures in Julia. Namely:\n",
    "\n",
    " - Arrays\n",
    " - Vectors\n",
    " - Matrices\n",
    " - Tuples\n",
    " - Dictionaries\n",
    " - Sets\n",
    " ***\n",
    "As I didn't want to make this notebook too long, I decided to leave out more advanced data structures, which will be presented in another Notebook. "
   ]
  },
  {
   "cell_type": "markdown",
   "id": "5036752d",
   "metadata": {},
   "source": [
    "## Arrays"
   ]
  },
  {
   "cell_type": "markdown",
   "id": "2ffec1db",
   "metadata": {},
   "source": [
    "In Julia there are 2 main ways to create arrays:\n",
    " - Array{T,N}(undef, dims) --> Type (T) and Dimension (N) explicilty given\n",
    " - Array{T}(undef, dims) --> N is implicitly derived by the lenght of dims\n"
   ]
  },
  {
   "cell_type": "code",
   "execution_count": 8,
   "id": "d6e95f27",
   "metadata": {},
   "outputs": [
    {
     "data": {
      "text/plain": [
       "2×3 Matrix{Float64}:\n",
       " 2.2398e-314  2.2398e-314  2.33891e-314\n",
       " 0.0          0.0          0.0"
      ]
     },
     "execution_count": 8,
     "metadata": {},
     "output_type": "execute_result"
    }
   ],
   "source": [
    "A = Array{Float64, 2}(undef, 2, 3) # N=2 (given explicitly)"
   ]
  },
  {
   "cell_type": "code",
   "execution_count": 4,
   "id": "e6300ed2",
   "metadata": {},
   "outputs": [
    {
     "data": {
      "text/plain": [
       "4-element Vector{Float64}:\n",
       " 1.603e-319\n",
       " 5.3756030174002e-299\n",
       " 2.121996045e-314\n",
       " 2.151614564e-314"
      ]
     },
     "execution_count": 4,
     "metadata": {},
     "output_type": "execute_result"
    }
   ],
   "source": [
    "B = Array{Float64}(undef, 4) # N=1 (given implicitly)"
   ]
  },
  {
   "cell_type": "code",
   "execution_count": 10,
   "id": "b3f91bd9",
   "metadata": {},
   "outputs": [
    {
     "data": {
      "text/plain": [
       "2×2×2 Array{Float64, 3}:\n",
       "[:, :, 1] =\n",
       " 2.21921e-314  2.21921e-314\n",
       " 2.21921e-314  2.21921e-314\n",
       "\n",
       "[:, :, 2] =\n",
       " 2.21921e-314  2.21921e-314\n",
       " 2.21921e-314  2.21921e-314"
      ]
     },
     "execution_count": 10,
     "metadata": {},
     "output_type": "execute_result"
    }
   ],
   "source": [
    "C = Array{Float64}(undef,2,2,2) #N=3 )(given implicitly)"
   ]
  },
  {
   "cell_type": "markdown",
   "id": "b9486a7f",
   "metadata": {},
   "source": [
    "**Note**: Vectors and Matrices are Arrays(Vector and Matrices are basically one and 2 dimensional aliases for arrays) . Thus:\n",
    "- If the array has 1 dimension, it will be stored as \"vector\"\n",
    "- If the array has 2 dimension, it will be stored as \"matrix\"\n",
    "- If the array has 3+ dimensions, it will be stored as \"array\"\n",
    "***\n",
    "Arrays can ave an arbitraty number of dimensions and cal also store other arrays. The inner arrays do not have to have the same dimension."
   ]
  },
  {
   "cell_type": "code",
   "execution_count": 14,
   "id": "b6989695",
   "metadata": {},
   "outputs": [
    {
     "data": {
      "text/plain": [
       "3-element Vector{Vector{Int64}}:\n",
       " [1, 2, 4]\n",
       " [4, 5]\n",
       " [9, 11, 12, 14, 50]"
      ]
     },
     "execution_count": 14,
     "metadata": {},
     "output_type": "execute_result"
    }
   ],
   "source": [
    "#Creating an array of arrays\n",
    "numbers = [[1,2,4],[4,5],[9,11,12,14,50]]"
   ]
  },
  {
   "cell_type": "code",
   "execution_count": 44,
   "id": "667f9481",
   "metadata": {},
   "outputs": [
    {
     "data": {
      "text/plain": [
       "2×2 Matrix{Any}:\n",
       "  \"Economics\"     2\n",
       " 3.1           true"
      ]
     },
     "execution_count": 44,
     "metadata": {},
     "output_type": "execute_result"
    }
   ],
   "source": [
    "#Arrays can contain objects of any arbitrary type:\n",
    "a = [\"Economics\" 2; 3.1     true]"
   ]
  },
  {
   "cell_type": "markdown",
   "id": "1a25c04b",
   "metadata": {},
   "source": [
    "**Note**: Arrays can be accessed via indexing and they can be  modified using:\n",
    " - push! -> adds an element to the end of an array\n",
    " - pop!  -> removes the last element of an array\n",
    " \n",
    "**Important** In the Julia programming language:\n",
    "- ! at the end of a function chenges the opearand of the function. \n",
    "\n",
    "\n",
    "Ex: push(a,2) will not change a but push!(a,2) will\n",
    "\n",
    "***\n",
    "Array proprierties can be retrieved using: ndims(), size(), lenght(), axes()"
   ]
  },
  {
   "cell_type": "code",
   "execution_count": 22,
   "id": "76b6c735",
   "metadata": {},
   "outputs": [
    {
     "data": {
      "text/plain": [
       "\"Economics\""
      ]
     },
     "execution_count": 22,
     "metadata": {},
     "output_type": "execute_result"
    }
   ],
   "source": [
    "#accessing an array via indexing\n",
    "a[1,1]"
   ]
  },
  {
   "cell_type": "code",
   "execution_count": 47,
   "id": "00a50745",
   "metadata": {},
   "outputs": [
    {
     "data": {
      "text/plain": [
       "false"
      ]
     },
     "execution_count": 47,
     "metadata": {},
     "output_type": "execute_result"
    }
   ],
   "source": [
    "#The presence of an element in an array can be checked by using the in operator \n",
    "2 in a # returns true\n",
    "in(2,a) # same as above\n",
    "4 in a # returns false"
   ]
  },
  {
   "cell_type": "code",
   "execution_count": 23,
   "id": "db4b4a57",
   "metadata": {},
   "outputs": [
    {
     "data": {
      "text/plain": [
       "4-element Vector{Int64}:\n",
       "  1\n",
       "  2\n",
       " 30\n",
       " 40"
      ]
     },
     "execution_count": 23,
     "metadata": {},
     "output_type": "execute_result"
    }
   ],
   "source": [
    "a = [1,2]\n",
    "push!(a, 30,40,50) #adds 30,40,50 to array a\n",
    "pop!(a) #removes 50 from a\n",
    "a"
   ]
  },
  {
   "cell_type": "code",
   "execution_count": 25,
   "id": "12aa5a27",
   "metadata": {},
   "outputs": [
    {
     "data": {
      "text/plain": [
       "(Base.OneTo(4),)"
      ]
     },
     "execution_count": 25,
     "metadata": {},
     "output_type": "execute_result"
    }
   ],
   "source": [
    "# Arrays properties\n",
    "ndims(a) # number of dimensions of a\n",
    "size(a) # size of each dimension of a\n",
    "length(a) # length (factor of the sizes) of a\n",
    "axes(a) # axes of a"
   ]
  },
  {
   "cell_type": "markdown",
   "id": "30974ca9",
   "metadata": {},
   "source": [
    "**A fundamental property of arrays is that, in Julia, they are passed by reference.** This means that two arrays that have been made equal point out to the same data in memory and that changing one array changes the other as well."
   ]
  },
  {
   "cell_type": "code",
   "execution_count": 27,
   "id": "132cd71e",
   "metadata": {},
   "outputs": [
    {
     "data": {
      "text/plain": [
       "\"Example of passing by reference\""
      ]
     },
     "execution_count": 27,
     "metadata": {},
     "output_type": "execute_result"
    }
   ],
   "source": [
    "a = [\"My string\" 2; 3.1 true]\n",
    "b=a #b points to the same object in memory as a\n",
    "a[1,1] = \"Example of passing by reference\" #changing a changes b\n",
    "b[1, 1]"
   ]
  },
  {
   "cell_type": "code",
   "execution_count": 28,
   "id": "e1647df4",
   "metadata": {},
   "outputs": [
    {
     "data": {
      "text/plain": [
       "true"
      ]
     },
     "execution_count": 28,
     "metadata": {},
     "output_type": "execute_result"
    }
   ],
   "source": [
    "# This can be easily checked by the typing\n",
    "pointer_from_objref(a) == pointer_from_objref(b)"
   ]
  },
  {
   "cell_type": "code",
   "execution_count": 29,
   "id": "ad88c275",
   "metadata": {},
   "outputs": [
    {
     "data": {
      "text/plain": [
       "2×2 Matrix{Any}:\n",
       "  \"Example of passing by reference\"     2\n",
       " 3.1                                 true"
      ]
     },
     "execution_count": 29,
     "metadata": {},
     "output_type": "execute_result"
    }
   ],
   "source": [
    "#if we want to make sure that b is not changed when a is changes:\n",
    "b = copy(a)"
   ]
  },
  {
   "cell_type": "code",
   "execution_count": 30,
   "id": "668bfc46",
   "metadata": {},
   "outputs": [
    {
     "data": {
      "text/plain": [
       "1×3 Matrix{Int64}:\n",
       " 1  2  3"
      ]
     },
     "execution_count": 30,
     "metadata": {},
     "output_type": "execute_result"
    }
   ],
   "source": [
    "#= In addition to copy() , Julia has a deepcopy() function\n",
    "While copy() does not change possible references to other objects within the array \n",
    "(for example, an array inside the array and which is still passed by reference), deepcopy() does.\n",
    "=#\n",
    "a = [1 2 3]\n",
    "b = [\"My String\", a]\n",
    "c = copy(b)\n",
    "d = deepcopy(b)\n",
    "a[1] = 45\n",
    "c[2] # results 45 2 3 \n",
    "d[2] # results 1 2 3"
   ]
  },
  {
   "cell_type": "markdown",
   "id": "62272a4c",
   "metadata": {},
   "source": [
    "## Vectors\n",
    "***\n",
    "As previously mentioned, vectors are one dimensional arrays"
   ]
  },
  {
   "cell_type": "markdown",
   "id": "7ef57773",
   "metadata": {},
   "source": [
    "#### Creating Vectors"
   ]
  },
  {
   "cell_type": "code",
   "execution_count": 31,
   "id": "136d3e97",
   "metadata": {},
   "outputs": [
    {
     "data": {
      "text/plain": [
       "3-element Vector{Int64}:\n",
       " 1\n",
       " 2\n",
       " 3"
      ]
     },
     "execution_count": 31,
     "metadata": {},
     "output_type": "execute_result"
    }
   ],
   "source": [
    "#Creating Vectors\n",
    "a = [1, 2, 3] # vector --> Vector{Int64} (alias for Array{Int64, 1})\n",
    "a = [1; 2; 3] # same vector"
   ]
  },
  {
   "cell_type": "markdown",
   "id": "70366bbd",
   "metadata": {},
   "source": [
    "**Note**: if we omit the commas or the semicolon we create matrices"
   ]
  },
  {
   "cell_type": "code",
   "execution_count": 36,
   "id": "a1772fca",
   "metadata": {},
   "outputs": [
    {
     "data": {
      "text/plain": [
       "3×1 adjoint(::Matrix{Int64}) with eltype Int64:\n",
       " 1\n",
       " 2\n",
       " 3"
      ]
     },
     "execution_count": 36,
     "metadata": {},
     "output_type": "execute_result"
    }
   ],
   "source": [
    "b = [1 2 3] # 1x3 matrix (i.e., row vector)\n",
    "b = [1 2 3]' # 3x1 matrix (i.e., column vector)"
   ]
  },
  {
   "cell_type": "code",
   "execution_count": 37,
   "id": "e4ae34ea",
   "metadata": {},
   "outputs": [
    {
     "data": {
      "text/plain": [
       "7-element Vector{Float64}:\n",
       " 1.0\n",
       " 1.5\n",
       " 2.0\n",
       " 2.5\n",
       " 3.0\n",
       " 3.5\n",
       " 4.0"
      ]
     },
     "execution_count": 37,
     "metadata": {},
     "output_type": "execute_result"
    }
   ],
   "source": [
    "# A faster command to created vectors is:\n",
    "a = collect(1.0:0.5:4) # vector from 1.0 to 4.0 with step 0.5"
   ]
  },
  {
   "cell_type": "code",
   "execution_count": 38,
   "id": "cda996bd",
   "metadata": {},
   "outputs": [
    {
     "data": {
      "text/plain": [
       "1.0:4.0:5.0"
      ]
     },
     "execution_count": 38,
     "metadata": {},
     "output_type": "execute_result"
    }
   ],
   "source": [
    "#Similarly, Julia has step range constructors\n",
    "a = 1:5:1 # list of points from i to j with step n\n",
    "a = range(1, 5, length=2) # linearly spaced list of k points"
   ]
  },
  {
   "cell_type": "code",
   "execution_count": 39,
   "id": "f56adb74",
   "metadata": {},
   "outputs": [
    {
     "data": {
      "text/plain": [
       "2-element Vector{Float64}:\n",
       " 1.0\n",
       " 5.0"
      ]
     },
     "execution_count": 39,
     "metadata": {},
     "output_type": "execute_result"
    }
   ],
   "source": [
    "#the steps range constructors can be converted into vectors by calling the collect() funciton\n",
    "a = collect(a) # creates a vector"
   ]
  },
  {
   "cell_type": "code",
   "execution_count": 40,
   "id": "f2d16287",
   "metadata": {},
   "outputs": [
    {
     "data": {
      "text/plain": [
       "5-element Vector{Int64}:\n",
       " 1\n",
       " 3\n",
       " 5\n",
       " 7\n",
       " 9"
      ]
     },
     "execution_count": 40,
     "metadata": {},
     "output_type": "execute_result"
    }
   ],
   "source": [
    "# collect() is a generator that allows the use of general programming structures such as loops or conditionals\n",
    "collect(x for x in 1:10 if isodd(x))"
   ]
  },
  {
   "cell_type": "markdown",
   "id": "0bbc02a6",
   "metadata": {},
   "source": [
    "#### Basic Functions and Operations on Vectors"
   ]
  },
  {
   "cell_type": "code",
   "execution_count": 41,
   "id": "6e6c3100",
   "metadata": {},
   "outputs": [
    {
     "name": "stdout",
     "output_type": "stream",
     "text": [
      "1 micro\n",
      "2 macro\n",
      "3 econometrics\n"
     ]
    }
   ],
   "source": [
    "#A related and versatile function is enumerate, which returns an index of a collection\n",
    "a = [\"micro\", \"macro\", \"econometrics\"];\n",
    "for (index, value) in enumerate(a)\n",
    "    println(\"$index $value\") # Prints\n",
    "end"
   ]
  },
  {
   "cell_type": "code",
   "execution_count": 42,
   "id": "7fa9900f",
   "metadata": {},
   "outputs": [
    {
     "name": "stdout",
     "output_type": "stream",
     "text": [
      "[\"micro\", \"macro\", \"econometrics\"]"
     ]
    },
    {
     "data": {
      "text/plain": [
       "\"macro\""
      ]
     },
     "execution_count": 42,
     "metadata": {},
     "output_type": "execute_result"
    }
   ],
   "source": [
    "#The basic operators to manipulate vectors include:\n",
    "show(a) # shows a sum(a) # sum of a\n",
    "maximum(a) # max of a\n",
    "minimum(a) # min of a\n",
    "a[end] # gets last element of a\n",
    "a[end-1] # gets element of a -1"
   ]
  },
  {
   "cell_type": "code",
   "execution_count": 43,
   "id": "3ed501f9",
   "metadata": {},
   "outputs": [
    {
     "data": {
      "text/plain": [
       "2"
      ]
     },
     "execution_count": 43,
     "metadata": {},
     "output_type": "execute_result"
    }
   ],
   "source": [
    "#Sorting Vectors\n",
    "a = [2,1,3]\n",
    "sort(a) # sorts a\n",
    "sort(a,by=abs) # sorts a by absolute values \n",
    "sortperm(a) # indices of sort of a\n",
    "first(a) # returns 2 \n",
    "last(a) # returns 3\n",
    "findall(isodd,a) # returns indices of occurrences (here 2,3) \n",
    "findfirst(isodd,a) # returns first index of occurrence"
   ]
  },
  {
   "cell_type": "code",
   "execution_count": 48,
   "id": "fe96e203",
   "metadata": {},
   "outputs": [
    {
     "data": {
      "text/plain": [
       "1-element Vector{Int64}:\n",
       " 2"
      ]
     },
     "execution_count": 48,
     "metadata": {},
     "output_type": "execute_result"
    }
   ],
   "source": [
    "# Julia also defines set operations\n",
    "a = [2,1,3]\n",
    "b = [2,4,5]\n",
    "union(a,b) # returns 2,1,3,4,5\n",
    "intersect(a,b) # returns 2 setdiff(a,b) # returns 1,3 setdiff(b,a) # returns 4,5"
   ]
  },
  {
   "cell_type": "markdown",
   "id": "6f991a88",
   "metadata": {},
   "source": [
    "## Matrices"
   ]
  },
  {
   "cell_type": "markdown",
   "id": "5844e777",
   "metadata": {},
   "source": [
    "**Basic Commands**"
   ]
  },
  {
   "cell_type": "code",
   "execution_count": 49,
   "id": "b659c551",
   "metadata": {},
   "outputs": [
    {
     "data": {
      "text/plain": [
       "2×2 Matrix{Float64}:\n",
       " 0.206188  0.069475\n",
       " 0.218301  0.517598"
      ]
     },
     "execution_count": 49,
     "metadata": {},
     "output_type": "execute_result"
    }
   ],
   "source": [
    "a=[12;34] #createa2x2matrix a[2, 2] # access element 2,2 a[1, :] # access first row\n",
    "a[:, 1] # access first column\n",
    "a = zeros(2,2) # zero matrix\n",
    "a = ones(2,2) # unitary matrix\n",
    "a = fill(2,3,4) # fill a 3x4 matrix with 2's\n",
    "a = trues(2,2) # 2x2 matrix of trues\n",
    "a = falses(2,2) # 2x2 matrix of falses\n",
    "a = rand(2,2) # random matrix (uniform) a = randn(2,2) # random matrix (gaussian)"
   ]
  },
  {
   "cell_type": "code",
   "execution_count": 50,
   "id": "9f4b9967",
   "metadata": {},
   "outputs": [
    {
     "data": {
      "text/plain": [
       "4×6 Matrix{Int64}:\n",
       " 1  2  1  2  1  2\n",
       " 3  4  3  4  3  4\n",
       " 1  2  1  2  1  2\n",
       " 3  4  3  4  3  4"
      ]
     },
     "execution_count": 50,
     "metadata": {},
     "output_type": "execute_result"
    }
   ],
   "source": [
    "#If we want to repeat a matrix to take advantage of some inner structure:\n",
    "a=[1 2;3 4] #createa2x2matrix\n",
    "b = repeat(a, 2,3) # repeats matrix 2x3 times --> we get a 4x6 matrix"
   ]
  },
  {
   "cell_type": "markdown",
   "id": "3257e0dc",
   "metadata": {},
   "source": [
    "#### Basic Operations"
   ]
  },
  {
   "cell_type": "code",
   "execution_count": 93,
   "id": "f6b68814",
   "metadata": {},
   "outputs": [
    {
     "data": {
      "text/plain": [
       "5×2 reshape(::UnitRange{Int64}, 5, 2) with eltype Int64:\n",
       " 1   6\n",
       " 2   7\n",
       " 3   8\n",
       " 4   9\n",
       " 5  10"
      ]
     },
     "execution_count": 93,
     "metadata": {},
     "output_type": "execute_result"
    }
   ],
   "source": [
    "using LinearAlgebra\n",
    "\n",
    "#Some Matrix Operations\n",
    "a = [1 2;3 4]\n",
    "b = [1 2;3 4]\n",
    "a' # complex conjugate transpose of a\n",
    "a[:] # convert matrix a to vector\n",
    "vec(a) # vectorization of a\n",
    "a*a # multiplication of two matrices\n",
    "a\\a # solution of linear system ax = b\n",
    "inv(a) # inverse of a\n",
    "pinv(a) # pseudo-inverse of a \n",
    "rank(a) # rank of a\n",
    "norm(a) # Euclidean norm of a\n",
    "det(a) # determinant of a\n",
    "#trace(a) # trace of a\n",
    "eigen(a) # eigenvalues and eigenvectors tril(a) # lower triangular matrix of a\n",
    "triu(a) # upper triangular matrix of a\n",
    "rotr90(a,1) # rotate a 90 degrees n = 1 times\n",
    "rot180(a,2) # rotate a 180 degrees n = 2 times\n",
    "cat(a,b; dims = 1) # concatenate a and b along dimension i = 0\n",
    "a = [[1 2] [1 2]] # concatenate horizontally\n",
    "hcat([1 2],[1 2]) # alternative notation to above\n",
    "a = [[1 2]; [1 2]] # concatenate vertically\n",
    "vcat([1 2],[1 2]) # alternative notation to above\n",
    "a = diagm(0=>[1; 2; 3]) # diagonal matrix\n",
    "a = reshape(1:10, 5, 2) # reshape"
   ]
  },
  {
   "cell_type": "code",
   "execution_count": 94,
   "id": "6373c05b",
   "metadata": {},
   "outputs": [
    {
     "data": {
      "text/plain": [
       "2×2 Matrix{Int64}:\n",
       " 2  3\n",
       " 5  6"
      ]
     },
     "execution_count": 94,
     "metadata": {},
     "output_type": "execute_result"
    }
   ],
   "source": [
    "#A powerful (but tricky!) function is broadcast() , which extends a \n",
    "#non-conforming matrix to the required dimensions in a function:\n",
    "a = [1,2]\n",
    "b = [1 2;3 4]\n",
    "broadcast(+,a,b) # returns [2 3;5 6]"
   ]
  },
  {
   "cell_type": "markdown",
   "id": "aedf81e1",
   "metadata": {},
   "source": [
    "## Tuples\n",
    "***\n",
    "Data type of that contains an ordered collection of elements. The elements of a tuple cannot be changed once they have been defined."
   ]
  },
  {
   "cell_type": "code",
   "execution_count": 95,
   "id": "4f124f85",
   "metadata": {},
   "outputs": [
    {
     "data": {
      "text/plain": [
       "2018"
      ]
     },
     "execution_count": 95,
     "metadata": {},
     "output_type": "execute_result"
    }
   ],
   "source": [
    "a = (\"This is a tuple\", 2018) # definition of a tuple\n",
    "a[2] # accessing element 2 of tuple a"
   ]
  },
  {
   "cell_type": "markdown",
   "id": "0b114cdb",
   "metadata": {},
   "source": [
    "### Dictionaries\n",
    "***\n",
    "Most convenient to deal with large sets of text. \n",
    "\n",
    "**Unlike tuples and arrats, dictionaries ar enot ordered. So, we can't index into them.**"
   ]
  },
  {
   "cell_type": "code",
   "execution_count": 99,
   "id": "1d15a9b5",
   "metadata": {},
   "outputs": [
    {
     "data": {
      "text/plain": [
       "false"
      ]
     },
     "execution_count": 99,
     "metadata": {},
     "output_type": "execute_result"
    }
   ],
   "source": [
    "# Creating a dictionary\n",
    "a = Dict(\"University of Pennsylvania\" => \"Philadelphia\", \"Boston College\" =>\n",
    "    \"Boston\")\n",
    "a[\"University of Pennsylvania\"] # access one key\n",
    "a[\"Harvard\"] = \"Cambridge\" # adds an additional key delete!(a,\"Harvard\") # deletes a key\n",
    "keys(a)\n",
    "values(a)\n",
    "haskey(a,\"University of Pennsylvania\") # returns true \n",
    "haskey(a,\"MIT\") # returns false"
   ]
  },
  {
   "cell_type": "code",
   "execution_count": 100,
   "id": "625c5be4",
   "metadata": {},
   "outputs": [
    {
     "name": "stdout",
     "output_type": "stream",
     "text": [
      "Cambridge\n"
     ]
    },
    {
     "data": {
      "text/plain": [
       "Dict{String, String} with 2 entries:\n",
       "  \"University of Pennsylvania\" => \"Philadelphia\"\n",
       "  \"Boston College\"             => \"Boston\""
      ]
     },
     "execution_count": 100,
     "metadata": {},
     "output_type": "execute_result"
    }
   ],
   "source": [
    "# We can get a value and simultaneously remove it from the dictionary by using the pop! function #\n",
    "\n",
    "println(pop!(a, \"Harvard\"))\n",
    "a"
   ]
  },
  {
   "cell_type": "markdown",
   "id": "067f506a",
   "metadata": {},
   "source": [
    "### Sets\n",
    "***\n",
    "Set are collection of unique elements. \n",
    " - Different from arrays because sets are unordered collections of unique elements (the order of elements is strictly remembered in Arrays)\n",
    " - Each element in a set must be unique. \n",
    " - Sets are mutable data types"
   ]
  },
  {
   "cell_type": "code",
   "execution_count": 101,
   "id": "80de9e24",
   "metadata": {},
   "outputs": [
    {
     "name": "stdout",
     "output_type": "stream",
     "text": [
      "Set([5, 4, 6, 2, 3, 1])\n"
     ]
    }
   ],
   "source": [
    "Set2 = Set([1, 2, 3, 4, 5, 2, 4, 6])\n",
    "println(Set2)"
   ]
  },
  {
   "cell_type": "code",
   "execution_count": 107,
   "id": "09715e0a",
   "metadata": {},
   "outputs": [
    {
     "ename": "LoadError",
     "evalue": "MethodError: no method matching getindex(::Set{Int64}, ::Int64)",
     "output_type": "error",
     "traceback": [
      "MethodError: no method matching getindex(::Set{Int64}, ::Int64)",
      "",
      "Stacktrace:",
      " [1] top-level scope",
      "   @ In[107]:2"
     ]
    }
   ],
   "source": [
    "#Set items cannot be accessed by referring to an index value (sets are unordered the items have no fixed index)\n",
    "Set2[1] #returns error message"
   ]
  },
  {
   "cell_type": "code",
   "execution_count": 108,
   "id": "163ab66e",
   "metadata": {},
   "outputs": [
    {
     "name": "stdout",
     "output_type": "stream",
     "text": [
      "5\n",
      "4\n",
      "6\n",
      "2\n",
      "3\n",
      "1\n"
     ]
    },
    {
     "data": {
      "text/plain": [
       "false"
      ]
     },
     "execution_count": 108,
     "metadata": {},
     "output_type": "execute_result"
    }
   ],
   "source": [
    "# However, you can loop through the set items using a for loop\n",
    "for i in Set2\n",
    "    println(i)\n",
    "end\n",
    "\n",
    "#or ask if a specified value is present in a set\n",
    "in(10, Set2)"
   ]
  }
 ],
 "metadata": {
  "kernelspec": {
   "display_name": "Julia 1.8.5",
   "language": "julia",
   "name": "julia-1.8"
  },
  "language_info": {
   "file_extension": ".jl",
   "mimetype": "application/julia",
   "name": "julia",
   "version": "1.8.5"
  }
 },
 "nbformat": 4,
 "nbformat_minor": 5
}
