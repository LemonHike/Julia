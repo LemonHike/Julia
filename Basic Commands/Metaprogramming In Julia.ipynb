{
 "cells": [
  {
   "cell_type": "markdown",
   "id": "1ce974ab",
   "metadata": {},
   "source": [
    "# Metaprogramming"
   ]
  },
  {
   "cell_type": "markdown",
   "id": "7ecde054",
   "metadata": {},
   "source": [
    "Metaprogramming writes code that can modify itself. One natural application is for writing repetitive code: if you can come up, for example, for a rule of how to define a large number of arrays, perhaps you can write a code that writes the code to define all these arrays.\n",
    "\n",
    "In the following note I will present: \n",
    " - Expressions\n",
    " - Functions vs Macros \n",
    " - Generated Functions"
   ]
  },
  {
   "cell_type": "markdown",
   "id": "39b12844",
   "metadata": {},
   "source": [
    "**Let's Start with the basics: Expressions**\n",
    "***\n",
    "Everything in Julia is an expression that returns a value when executed. In fact, every piece of program code is internally represented as an ordinary Julia data structure, referred to as an expression."
   ]
  },
  {
   "cell_type": "code",
   "execution_count": 1,
   "id": "a5942e47",
   "metadata": {},
   "outputs": [
    {
     "data": {
      "text/plain": [
       "5"
      ]
     },
     "execution_count": 1,
     "metadata": {},
     "output_type": "execute_result"
    }
   ],
   "source": [
    "#Ex:\n",
    "2+3 #is an expression"
   ]
  },
  {
   "cell_type": "markdown",
   "id": "910f561c",
   "metadata": {},
   "source": [
    "To make Julia see 2+3 as an expression and block its evaluation immediately (i.e., keep the expression from being executed to render a result), it must be quoted. Quoting happens in two ways.\n",
    " - using : operator\n",
    " - using quote-end operator\n",
    " \n",
    " \n",
    "Alternatively, one could use the Expresison construcvtor EXPR"
   ]
  },
  {
   "cell_type": "code",
   "execution_count": 2,
   "id": "71bac5ce",
   "metadata": {},
   "outputs": [
    {
     "data": {
      "text/plain": [
       "Expr"
      ]
     },
     "execution_count": 2,
     "metadata": {},
     "output_type": "execute_result"
    }
   ],
   "source": [
    "a = :(2+3) #this is an unevaluated expression (if we remove : we evalueate)\n",
    "typeof(:(2+3))\n",
    "\n",
    "#if the expression takes more than one line, we use the quote operator\n",
    "a = quote\n",
    "    a = 42 \n",
    "    b = a^2\n",
    "    a-b\n",
    "end\n",
    "\n",
    "#alternative one line version\n",
    ":(a=42; b=a^2; a - b)\n",
    "\n",
    "\n",
    "e1 = Expr(:call, *, 3, 4)\n",
    "\n",
    "typeof(a)"
   ]
  },
  {
   "cell_type": "markdown",
   "id": "5af8f943",
   "metadata": {},
   "source": [
    "**Note** Expr objects contain two parts:\n",
    " - A symbol identifying the kind of expression --> a.head\n",
    " - The expression arguments --> a.args"
   ]
  },
  {
   "cell_type": "code",
   "execution_count": 3,
   "id": "2289adc1",
   "metadata": {},
   "outputs": [
    {
     "name": "stdout",
     "output_type": "stream",
     "text": [
      "Expr\n",
      "  head: Symbol call\n",
      "  args: Array{Any}((3,))\n",
      "    1: Symbol +\n",
      "    2: Int64 2\n",
      "    3: Int64 3\n"
     ]
    }
   ],
   "source": [
    "#we can look at the details of the expression with dump()\n",
    "a = :(2+3)\n",
    "dump(a)"
   ]
  },
  {
   "cell_type": "code",
   "execution_count": 4,
   "id": "becf7475",
   "metadata": {},
   "outputs": [
    {
     "data": {
      "text/plain": [
       "(Any[:+, 2, 3], :call)"
      ]
     },
     "execution_count": 4,
     "metadata": {},
     "output_type": "execute_result"
    }
   ],
   "source": [
    "#each of the fiels can be accessed with args()\n",
    "a.args, a.head"
   ]
  },
  {
   "cell_type": "code",
   "execution_count": 5,
   "id": "0aea0640",
   "metadata": {},
   "outputs": [
    {
     "data": {
      "text/plain": [
       "3-element Vector{Any}:\n",
       "  :+\n",
       " 5\n",
       " 3"
      ]
     },
     "execution_count": 5,
     "metadata": {},
     "output_type": "execute_result"
    }
   ],
   "source": [
    "#each field can be modified\n",
    "a.args[2] = 5\n",
    "a.args"
   ]
  },
  {
   "cell_type": "markdown",
   "id": "bcb296f2",
   "metadata": {},
   "source": [
    "**Why do we need expressions?**\n",
    "The key point of expression is that:\n",
    " - At the time an expression is constructed, not all the symbols have to be defined\n",
    " - However, they have to be at the time of evaluation (i.e., when eval() is invoked), otherwise errors occur."
   ]
  },
  {
   "cell_type": "code",
   "execution_count": 7,
   "id": "446d84eb",
   "metadata": {},
   "outputs": [
    {
     "name": "stdout",
     "output_type": "stream",
     "text": [
      "UndefVarError(:e3)\n"
     ]
    }
   ],
   "source": [
    "e2 = Expr(:call, *, 3, :a)\n",
    "try\n",
    "\teval(e3) #evaluation of e3 has error because a is not assigned\n",
    "catch e\n",
    "    println(e)\n",
    "end"
   ]
  },
  {
   "cell_type": "code",
   "execution_count": 8,
   "id": "b774c99a",
   "metadata": {},
   "outputs": [
    {
     "data": {
      "text/plain": [
       "12"
      ]
     },
     "execution_count": 8,
     "metadata": {},
     "output_type": "execute_result"
    }
   ],
   "source": [
    "# to fix this, we need to define a before evaluating the expression\n",
    "\n",
    "e2 = Expr(:call, *, 3, :a)\n",
    "a = 4\n",
    "eval(e2)"
   ]
  },
  {
   "cell_type": "markdown",
   "id": "dec7b91b",
   "metadata": {},
   "source": [
    "**Note**: Expressions Can Change State of the Execution Environment.\n",
    "\n",
    "Ex: expression e3 assigns a value to variable b when the expression e3 gets evaluated. \n",
    "It might even define b, if it does not already exist."
   ]
  },
  {
   "cell_type": "code",
   "execution_count": 9,
   "id": "9f4a091c",
   "metadata": {
    "scrolled": true
   },
   "outputs": [
    {
     "data": {
      "text/plain": [
       ":(b = 1)"
      ]
     },
     "execution_count": 9,
     "metadata": {},
     "output_type": "execute_result"
    }
   ],
   "source": [
    "e3 = :(b = 1)"
   ]
  },
  {
   "cell_type": "markdown",
   "id": "31b093a1",
   "metadata": {},
   "source": [
    "**Interpolating Expressions**"
   ]
  },
  {
   "cell_type": "code",
   "execution_count": 10,
   "id": "04cc7b01",
   "metadata": {},
   "outputs": [
    {
     "data": {
      "text/plain": [
       ":(1 + b)"
      ]
     },
     "execution_count": 10,
     "metadata": {},
     "output_type": "execute_result"
    }
   ],
   "source": [
    "# To interpolate, we use the $ operator in an expression. \n",
    "a = 1\n",
    "b = 99\n",
    "e4 = :(a + b) #a will not be evaluated immediately > returns :(a+b)\n",
    "e5 = :($a + b) #a will be evaluated immediately > returns :(1 + b)"
   ]
  },
  {
   "cell_type": "markdown",
   "id": "226342c4",
   "metadata": {},
   "source": [
    "**Thus**\n",
    " - Expression interpolation (with $) evaluates when the expression is constructed (at parse time)\n",
    " - Quotation (with : or quote-end) evaluates only when the expression is passed to eval at runtime."
   ]
  },
  {
   "cell_type": "markdown",
   "id": "30f542a0",
   "metadata": {},
   "source": [
    "## Functions Vs Macros\n",
    "\n",
    "Functions and Macros are both programming structures in Julia. However:\n",
    " - Function: takes the input values and returns the computed values at runtime.\n",
    " - Macro: takes the input expression and returns the modified expressions at parse time. Macros are a form of custom program transformation"
   ]
  },
  {
   "cell_type": "code",
   "execution_count": 11,
   "id": "5e9d36c5",
   "metadata": {},
   "outputs": [
    {
     "name": "stdout",
     "output_type": "stream",
     "text": [
      "Hello Jesus likes economics\n"
     ]
    }
   ],
   "source": [
    "# A classical example\n",
    "\n",
    "macro welcome(name)\n",
    "    return :(println(\"Hello \", $name, \" likes economics\")) \n",
    "end\n",
    "    \n",
    "@welcome(\"Jesus\")"
   ]
  },
  {
   "cell_type": "code",
   "execution_count": 12,
   "id": "1941de99",
   "metadata": {},
   "outputs": [
    {
     "name": "stdout",
     "output_type": "stream",
     "text": [
      "First\n",
      "Second\n",
      "Third\n"
     ]
    }
   ],
   "source": [
    "#Evaluation at parse time\n",
    "\n",
    "macro macex1(ex)\n",
    "    quote\n",
    "        println(\"First\")\n",
    "        println($ex)\n",
    "        println(\"Third\")\n",
    "    end\n",
    "end\n",
    "\n",
    "@macex1 (\"Second\")"
   ]
  },
  {
   "cell_type": "code",
   "execution_count": 13,
   "id": "f4f20ae9",
   "metadata": {},
   "outputs": [
    {
     "name": "stdout",
     "output_type": "stream",
     "text": [
      "First\n",
      "Second\n",
      "Third\n"
     ]
    }
   ],
   "source": [
    "#Evaluation at run-time\n",
    "macro macex1(ex)\n",
    "    quote\n",
    "        println(\"First\")\n",
    "        println(ex)\n",
    "        println(\"Third\")\n",
    "    end\n",
    "end\n",
    "\n",
    "ex = \"Second\"\n",
    "\n",
    "@macex1 ()"
   ]
  },
  {
   "cell_type": "code",
   "execution_count": 14,
   "id": "1a36c5ae",
   "metadata": {},
   "outputs": [
    {
     "name": "stdout",
     "output_type": "stream",
     "text": [
      "ErrorException(\"Assert failed: 1 == 42\")\n"
     ]
    }
   ],
   "source": [
    "#The assert macro to the left takes an expression, ex, and tests whether it is true or not.\n",
    "\n",
    "macro assert(ex)\n",
    "    :($ex ? nothing : error(\"Assert failed: \", $(string(ex))))\n",
    "end\n",
    "\n",
    "\n",
    "try\n",
    "\t@assert 1 == 42\n",
    "catch e\n",
    "  println(e)\n",
    "end"
   ]
  },
  {
   "cell_type": "markdown",
   "id": "0f7f3e0e",
   "metadata": {},
   "source": [
    "**Note** When you are using macros, it is important to keep an eye out for scoping issues."
   ]
  },
  {
   "cell_type": "code",
   "execution_count": 15,
   "id": "624efd22",
   "metadata": {},
   "outputs": [
    {
     "data": {
      "text/plain": [
       "(4, 0)"
      ]
     },
     "execution_count": 15,
     "metadata": {},
     "output_type": "execute_result"
    }
   ],
   "source": [
    "macro f(x)\n",
    "    quote\n",
    "        s = 4\n",
    "        (s, $(esc(s)))\n",
    "    end\n",
    "end\n",
    "\n",
    "# This macro declares a variable s, and returns a quoted expression containing s and an escaped version of s.\n",
    "# the escaped vesion of s is basically an s defined outside the macro function f(x)\n",
    "\n",
    "s = 0\n",
    "\n",
    "@f 5 #can use any number as x"
   ]
  },
  {
   "cell_type": "markdown",
   "id": "7f163b4e",
   "metadata": {},
   "source": [
    "**Conventional use of macros**\n",
    " - Declare variables used in the macro as local - prevents conflict with other variables\n",
    " - Use the escape function esc to make sure that an interpolated expression is not expanded, but instead is used literally\n",
    " - Don't call eval inside a macro (because it is likely that the variables you are evaluating don't even exist at that point)"
   ]
  },
  {
   "cell_type": "code",
   "execution_count": 16,
   "id": "9698c6c9",
   "metadata": {},
   "outputs": [
    {
     "name": "stdout",
     "output_type": "stream",
     "text": [
      "elapsed time in seconds: \n",
      "0.016"
     ]
    },
    {
     "data": {
      "text/plain": [
       "3628800"
      ]
     },
     "execution_count": 16,
     "metadata": {},
     "output_type": "execute_result"
    }
   ],
   "source": [
    "# A Good Example of a Hygienic Macro is the timeit Macro\n",
    "\n",
    "using Printf\n",
    "macro timeit(ex)\n",
    "    quote\n",
    "        local t0 = time()\n",
    "        local val = $(esc(ex)) #$esc(ex)) expression allows you to 'escape' the code you want to time, \n",
    "        local t1 = time()\n",
    "        println(\"elapsed time in seconds: \")\n",
    "        @printf \"%.3f\" t1-t0\n",
    "        val\n",
    "    end\n",
    "end\n",
    "\n",
    "#= \n",
    " the $esc(ex)) expression allows you to 'escape' the code you want to time, which is in ex, \n",
    "    so that it isn't evaluated in the macro, but left intact until the entire quoted expression\n",
    "    is returned by @timeit macro is evaluated at the calling context and executed there.\n",
    "=#\n",
    "\n",
    "@timeit factorial(10)"
   ]
  },
  {
   "cell_type": "markdown",
   "id": "cc3d20d6",
   "metadata": {},
   "source": [
    "### Generated Functions\n",
    "***\n",
    "Julia's generated functions provide a flexible way to move work from run time to compile time. As with macros, generated functions improve performance by moving constant parts of the computation earlier in the compilation stage. However, the big difference between generated functions and macros is that computations are fixed only for a certain type of argument for generated functions.\n",
    " - The function declaration MUST be annotated with the @generated macro.\n",
    " - In the body of the generated function you only have access to the types of the arguments – not their values --and any function that was defined before the definition of the generated function.\n",
    " - Generated functions only return a quoted expression, which when evaluated, performs the calculation and returns a result as desired with the given arguments.\n",
    " - Generated functions MUST NOT mutate or observe any non-constant global state, meaning they can only read global constants and cannot have any side effects. Generated function have to be completely pure. PURE in the sense that as of the time of this writing, they cannot define a closure or generator."
   ]
  },
  {
   "cell_type": "code",
   "execution_count": 17,
   "id": "71bac11f",
   "metadata": {},
   "outputs": [
    {
     "name": "stdout",
     "output_type": "stream",
     "text": [
      "Int64\n"
     ]
    },
    {
     "data": {
      "text/plain": [
       "4"
      ]
     },
     "execution_count": 17,
     "metadata": {},
     "output_type": "execute_result"
    }
   ],
   "source": [
    "@generated function simplegen(x)\n",
    "    Core.println(x)\n",
    "    return :(x * x) #the function returns a quoted expression\n",
    "end\n",
    "\n",
    "\n",
    "#Output is from the println() statement in the return of the expression being evaluated\n",
    "simplegen(4) #only prints 4\n",
    "x = simplegen(2) "
   ]
  },
  {
   "cell_type": "code",
   "execution_count": 18,
   "id": "7afbaf60",
   "metadata": {},
   "outputs": [
    {
     "name": "stdout",
     "output_type": "stream",
     "text": [
      "String\n"
     ]
    },
    {
     "data": {
      "text/plain": [
       "\"AlohaAloha\""
      ]
     },
     "execution_count": 18,
     "metadata": {},
     "output_type": "execute_result"
    }
   ],
   "source": [
    "y = simplegen(\"Aloha\")"
   ]
  },
  {
   "cell_type": "code",
   "execution_count": 19,
   "id": "f7361df9",
   "metadata": {},
   "outputs": [
    {
     "data": {
      "text/plain": [
       "origfunc (generic function with 3 methods)"
      ]
     },
     "execution_count": 19,
     "metadata": {},
     "output_type": "execute_result"
    }
   ],
   "source": [
    "# Example 3: Generated functions and Method Redefinitions\n",
    "origfunc(x) = \"original definition\"\n",
    "\n",
    "#Let's define other operations using orgfunc\n",
    "copyorigfunc(x) = origfunc(x) #Normal Function\n",
    "\n",
    "@generated gen1(x) = origfunc(x) #generated function\n",
    "@generated gen2(x) = :(origfunc(x)) #generated function\n",
    "\n",
    "#let's add a new mothod for origfunc()\n",
    "origfunc(x::Int) = \"definition for Int\"\n",
    "origfunc(x::Type{Int}) = \"definition for Type{Int}\""
   ]
  },
  {
   "cell_type": "code",
   "execution_count": 20,
   "id": "3714af0d",
   "metadata": {},
   "outputs": [
    {
     "data": {
      "text/plain": [
       "\"definition for Int\""
      ]
     },
     "execution_count": 20,
     "metadata": {},
     "output_type": "execute_result"
    }
   ],
   "source": [
    "# origfunc(1) - here we see the new definition using an Integer \n",
    "#               argument takes precedence.\n",
    "origfunc(1)"
   ]
  },
  {
   "cell_type": "code",
   "execution_count": 21,
   "id": "4715fd16",
   "metadata": {},
   "outputs": [
    {
     "data": {
      "text/plain": [
       "\"definition for Int\""
      ]
     },
     "execution_count": 21,
     "metadata": {},
     "output_type": "execute_result"
    }
   ],
   "source": [
    "# copyorigfunc(1)  - follows from the assignment of copyorigfunc = origfunc \n",
    "#                    they point to the same place in memory.\n",
    "copyorigfunc(1)"
   ]
  },
  {
   "cell_type": "code",
   "execution_count": 22,
   "id": "36fe5be8",
   "metadata": {},
   "outputs": [
    {
     "data": {
      "text/plain": [
       "\"original definition\""
      ]
     },
     "execution_count": 22,
     "metadata": {},
     "output_type": "execute_result"
    }
   ],
   "source": [
    "# gen1(1) - follows the origfunc(x) prior to the new \n",
    "#          definition of origfunc(x) \n",
    "gen1(1)"
   ]
  },
  {
   "cell_type": "code",
   "execution_count": 23,
   "id": "43db4535",
   "metadata": {},
   "outputs": [
    {
     "data": {
      "text/plain": [
       "\"definition for Int\""
      ]
     },
     "execution_count": 23,
     "metadata": {},
     "output_type": "execute_result"
    }
   ],
   "source": [
    "# gen2(1) - uses a quoted version of origfunc(x) which \n",
    "#           follows the latest definition during call invocation.\n",
    "gen2(1)"
   ]
  },
  {
   "cell_type": "markdown",
   "id": "7d4c41c8",
   "metadata": {},
   "source": [
    "**Note**: Generated functions have there their own view of defined functions\n"
   ]
  },
  {
   "cell_type": "code",
   "execution_count": 24,
   "id": "10b20f87",
   "metadata": {},
   "outputs": [
    {
     "data": {
      "text/plain": [
       "\"definition for Type{Int}\""
      ]
     },
     "execution_count": 24,
     "metadata": {},
     "output_type": "execute_result"
    }
   ],
   "source": [
    "@generated gen1(x::Real) = origfunc(x)\n",
    "gen1(1)"
   ]
  }
 ],
 "metadata": {
  "kernelspec": {
   "display_name": "Julia 1.8.5",
   "language": "julia",
   "name": "julia-1.8"
  },
  "language_info": {
   "file_extension": ".jl",
   "mimetype": "application/julia",
   "name": "julia",
   "version": "1.8.5"
  }
 },
 "nbformat": 4,
 "nbformat_minor": 5
}
