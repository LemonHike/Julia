{
 "cells": [
  {
   "cell_type": "markdown",
   "id": "5cc27752",
   "metadata": {},
   "source": [
    "# Advanced Types"
   ]
  },
  {
   "cell_type": "markdown",
   "id": "9397b553",
   "metadata": {},
   "source": [
    "## Composite Types\n",
    "Composite types are user-defined objects that store structured data. They are defined in Julia with the construct struct.\n",
    "***\n",
    "Imagine that you want to read, store, and manipulate the information from the survey, perhaps with thousands of observations. You soon realize that you have plenty of data that comes in a non-conventional form: part of it is in terms of integers, part in terms of a string, part in terms of a floating, etc. In some datasets, the information may even contain complex Unicode characters, images, maps, etc. You could construe arrays to store that information (Julia allows for arrays with multiple types), but, after some time you will find that the approach generates complex code.\n",
    "\n",
    "**A much simpler strategy is to design your own type.**"
   ]
  },
  {
   "cell_type": "code",
   "execution_count": 1,
   "id": "4cf34d2d",
   "metadata": {},
   "outputs": [],
   "source": [
    "struct MicroSurveyObservation\n",
    "    id::Int\n",
    "    year::Int\n",
    "    quarter::Int\n",
    "    region::String\n",
    "    ageHouseholdHead::Int\n",
    "    familySize::Int\n",
    "    numberChildrenunder18::Int\n",
    "    consumption::Float64\n",
    "end"
   ]
  },
  {
   "cell_type": "markdown",
   "id": "50f40f5b",
   "metadata": {},
   "source": [
    "**Note**: In the above example, we have annotated all fields with the operator :: . \n",
    "\n",
    "\n",
    "This declaration is not necessary as a field without explicit declaration will default to any.\n"
   ]
  },
  {
   "cell_type": "code",
   "execution_count": 3,
   "id": "ad184562",
   "metadata": {},
   "outputs": [],
   "source": [
    "# alternative constructor of MicroSurveyObservation\n",
    "\n",
    "struct MicroSurveyObservation_implicit\n",
    "    id\n",
    "    # other fields here\n",
    "end"
   ]
  },
  {
   "cell_type": "markdown",
   "id": "f26b257a",
   "metadata": {},
   "source": [
    "#### Performing Basic Operations"
   ]
  },
  {
   "cell_type": "code",
   "execution_count": 4,
   "id": "8c3fcaf7",
   "metadata": {},
   "outputs": [
    {
     "data": {
      "text/plain": [
       "MicroSurveyObservation(12, 2017, 3, \"angushire\", 23, 2, 0, 345.34)"
      ]
     },
     "execution_count": 4,
     "metadata": {},
     "output_type": "execute_result"
    }
   ],
   "source": [
    "#Creating an instance for the fiels is pretty straightforward\n",
    "household1 = MicroSurveyObservation(12,2017,3,\"angushire\",23,2,0,345.34)"
   ]
  },
  {
   "cell_type": "code",
   "execution_count": 10,
   "id": "8d6777f4",
   "metadata": {},
   "outputs": [
    {
     "data": {
      "text/plain": [
       "2"
      ]
     },
     "execution_count": 10,
     "metadata": {},
     "output_type": "execute_result"
    }
   ],
   "source": [
    "#You can check the names of all the fields with\n",
    "fieldnames(MicroSurveyObservation)\n",
    "\n",
    "#To access to any of these fields, you only need to use a . after the name of the variable followed by the field:\n",
    "household1.familySize"
   ]
  },
  {
   "cell_type": "markdown",
   "id": "a40eeeee",
   "metadata": {},
   "source": [
    "**Note** Objects that are created with structs are immutable\n",
    "\n",
    "\n",
    "Ex: household1.id = 31 --> Will Generate An Error Message"
   ]
  },
  {
   "cell_type": "markdown",
   "id": "68fb3611",
   "metadata": {},
   "source": [
    "***\n",
    "Creating a different variable for each observation in our survey is not very efficient. Imagine that we have n observations. Then, we can define an abstract array n × 1 and populate it with repeated applications of the constructor:"
   ]
  },
  {
   "cell_type": "code",
   "execution_count": 6,
   "id": "307ec866",
   "metadata": {},
   "outputs": [
    {
     "data": {
      "text/plain": [
       "MicroSurveyObservation(13, 2015, 2, \"Wolpex\", 35, 5, 2, 645.34)"
      ]
     },
     "execution_count": 6,
     "metadata": {},
     "output_type": "execute_result"
    }
   ],
   "source": [
    "household = Array{Any}(undef,2,1)\n",
    "household[1] = MicroSurveyObservation(12,2017,3,\"angushire\", 23, 2,0,345.34)\n",
    "household[2] = MicroSurveyObservation(13,2015,2,\"Wolpex\", 35, 5,2,645.34)"
   ]
  },
  {
   "cell_type": "markdown",
   "id": "20e068ef",
   "metadata": {},
   "source": [
    "Even more efficiently, you can build a loop that reads data from a file and builds each element of the array:"
   ]
  },
  {
   "cell_type": "code",
   "execution_count": 18,
   "id": "2f812f74",
   "metadata": {},
   "outputs": [],
   "source": [
    "household = Array{Any}(undef,10,1)\n",
    "for i in 1:10\n",
    "    household[i] = MicroSurveyObservation(12,2017,3,\"angushire\", 23, 2,0,345.34)\n",
    "end"
   ]
  },
  {
   "cell_type": "markdown",
   "id": "5bc83f52",
   "metadata": {},
   "source": [
    "If you have experience with other object-oriented languages you would have recognized that a composite type is similar to a class in C++, Python, R, or Matlab or a structure in C/C++ or Matlab22. At the same time, you might miss the definition of methods in the class. In comparison with object-oriented languages, in Julia, functions are not tied with objects.\n",
    "***\n",
    "This is a second key difference of multiple dispatch with respect to operator overloading: in Julia you will take an existing function and add a new method to it to deal with a concrete composite type or create a new function with its specific method if you want to have a completely new operation."
   ]
  },
  {
   "cell_type": "code",
   "execution_count": 19,
   "id": "7386dd40",
   "metadata": {},
   "outputs": [
    {
     "data": {
      "text/plain": [
       "244.1922558149623"
      ]
     },
     "execution_count": 19,
     "metadata": {},
     "output_type": "execute_result"
    }
   ],
   "source": [
    "import Base: + # importing + from base package\n",
    "\n",
    "# definition of sum function for MicroSurveyObservation composite types \n",
    "+(x::MicroSurveyObservation,y::MicroSurveyObservation) = x.consumption + y.consumption\n",
    "\n",
    "#= This function extends the sum operator + to instances of MicroSurveyObservation .\n",
    "#Basically we are taking the function + in julia and we are adding to it a new method to deal with our composite type\n",
    "=#\n",
    "\n",
    "# an example of how to apply the sum\n",
    "household[1]+household[2] #return 991\n",
    "\n",
    "equivConsumption(x::MicroSurveyObservation) = x.consumption/sqrt(x.familySize)\n",
    "equivConsumption(household[1])"
   ]
  },
  {
   "cell_type": "markdown",
   "id": "1a6d8ff7",
   "metadata": {},
   "source": [
    "Note the flexibility of working with composite types in this way: if you decide to define a new household equivalence scale you only need to change the function equivConsumption() without worrying about the data structure itself. In comparison, with classes in C++ or Matlab, you would need to change the definition of the class itself by introducing a new operator.\n",
    "***\n",
    "One could als declare a type that holds a pair of real numbers, subject to the constraint that the first number is not greater than the second one. One could declare it like this:"
   ]
  },
  {
   "cell_type": "code",
   "execution_count": 20,
   "id": "8a6530b1",
   "metadata": {},
   "outputs": [],
   "source": [
    "struct OrderedPair\n",
    "    x::Real\n",
    "    y::Real\n",
    "    OrderedPair(x,y) = x > y ? error(\"out of order\") : new(x,y)\n",
    "end"
   ]
  },
  {
   "cell_type": "code",
   "execution_count": 21,
   "id": "e4f1dd18",
   "metadata": {},
   "outputs": [
    {
     "data": {
      "text/plain": [
       "OrderedPair(1, 2)"
      ]
     },
     "execution_count": 21,
     "metadata": {},
     "output_type": "execute_result"
    }
   ],
   "source": [
    "OrderedPair(1, 2)"
   ]
  },
  {
   "cell_type": "code",
   "execution_count": 22,
   "id": "9dfc17f9",
   "metadata": {
    "scrolled": true
   },
   "outputs": [
    {
     "ename": "LoadError",
     "evalue": "out of order",
     "output_type": "error",
     "traceback": [
      "out of order",
      "",
      "Stacktrace:",
      " [1] error(s::String)",
      "   @ Base ./error.jl:35",
      " [2] OrderedPair(x::Int64, y::Int64)",
      "   @ Main ./In[20]:4",
      " [3] top-level scope",
      "   @ In[22]:1"
     ]
    }
   ],
   "source": [
    "OrderedPair(2,1) #Generates an Error"
   ]
  },
  {
   "cell_type": "markdown",
   "id": "1000a8d1",
   "metadata": {},
   "source": [
    "## Mutable Composite Types\n",
    "***\n",
    "If a composite type is declared with mutable struct instead of struct, then instances of it can be modified:"
   ]
  },
  {
   "cell_type": "code",
   "execution_count": 23,
   "id": "885302fc",
   "metadata": {},
   "outputs": [],
   "source": [
    "mutable struct MicroSurveyObservationMut\n",
    "    id::Int\n",
    "    #... \n",
    "end"
   ]
  },
  {
   "cell_type": "code",
   "execution_count": 25,
   "id": "17c52621",
   "metadata": {},
   "outputs": [
    {
     "data": {
      "text/plain": [
       "MicroSurveyObservationMut(1)"
      ]
     },
     "execution_count": 25,
     "metadata": {},
     "output_type": "execute_result"
    }
   ],
   "source": [
    "number = MicroSurveyObservationMut(1)"
   ]
  },
  {
   "cell_type": "code",
   "execution_count": 27,
   "id": "78e2801c",
   "metadata": {},
   "outputs": [
    {
     "data": {
      "text/plain": [
       "5"
      ]
     },
     "execution_count": 27,
     "metadata": {},
     "output_type": "execute_result"
    }
   ],
   "source": [
    "#now the instance can be modified\n",
    "number.id = 5"
   ]
  },
  {
   "cell_type": "markdown",
   "id": "31ad5d7c",
   "metadata": {},
   "source": [
    "## Parametric Composite Types (TBD)"
   ]
  },
  {
   "cell_type": "code",
   "execution_count": 28,
   "id": "fd8eb01a",
   "metadata": {},
   "outputs": [],
   "source": [
    "#Type parameters are introduced immediately after the type name, surrounded by curly braces\n",
    "struct Point{T}\n",
    "           x::T\n",
    "           y::T\n",
    "end"
   ]
  },
  {
   "cell_type": "markdown",
   "id": "e88ea3ea",
   "metadata": {},
   "source": [
    "This declaration defines a new parametric type, Point{T}, holding two \"coordinates\" of type T.\n",
    " - What, one may ask, is T? Well, that's precisely the point of parametric types: it can be any type at all.\n",
    " \n",
    " \n",
    "Thus, this single declaration actually declares an unlimited number of types: Point{Float64}, Point{AbstractString}, Point{Int64}, etc. Each of these is now a usable concrete type:"
   ]
  },
  {
   "cell_type": "code",
   "execution_count": 29,
   "id": "a2ba790a",
   "metadata": {},
   "outputs": [
    {
     "data": {
      "text/plain": [
       "Point{AbstractString}"
      ]
     },
     "execution_count": 29,
     "metadata": {},
     "output_type": "execute_result"
    }
   ],
   "source": [
    "Point{Float64} #is a point whose coordinates are 64-bit floating-point values\n",
    "\n",
    "Point{AbstractString} #is a \"point\" whose \"coordinates\" are string objects"
   ]
  },
  {
   "cell_type": "markdown",
   "id": "f284fbfe",
   "metadata": {},
   "source": [
    "**There are two default ways of creating new composite objects:**\n",
    "1. the type parameters are explicitly given\n",
    "2. the type parameters are implied by the arguments to the object constructor."
   ]
  },
  {
   "cell_type": "code",
   "execution_count": 30,
   "id": "1eb75a40",
   "metadata": {},
   "outputs": [
    {
     "data": {
      "text/plain": [
       "Point{Float64}"
      ]
     },
     "execution_count": 30,
     "metadata": {},
     "output_type": "execute_result"
    }
   ],
   "source": [
    "#1 --> explicit\n",
    "p = Point{Float64}(1.0, 2.0)\n",
    "typeof(p)"
   ]
  },
  {
   "cell_type": "code",
   "execution_count": 31,
   "id": "b210c9b9",
   "metadata": {},
   "outputs": [
    {
     "data": {
      "text/plain": [
       "Point{Float64}"
      ]
     },
     "execution_count": 31,
     "metadata": {},
     "output_type": "execute_result"
    }
   ],
   "source": [
    "#2 --> Implicit. NOTE: the two arguments must have the same type\n",
    "p1 = Point(1.0,2.0)\n",
    "typeof(p1)"
   ]
  },
  {
   "cell_type": "markdown",
   "id": "2cdac95d",
   "metadata": {},
   "source": [
    "\n",
    "**Note**: Methods or functions can be broadcasted to subtypes (or at least that's what I understood). \n",
    "\n",
    "Ex: Since Point{Float64} is not a subtype of Point{Real}, the following method can't be applied to arguments of type Point{Float64}:"
   ]
  },
  {
   "cell_type": "code",
   "execution_count": 32,
   "id": "2c976989",
   "metadata": {},
   "outputs": [
    {
     "data": {
      "text/plain": [
       "norm (generic function with 2 methods)"
      ]
     },
     "execution_count": 32,
     "metadata": {},
     "output_type": "execute_result"
    }
   ],
   "source": [
    "function norm(p::Point{Real})\n",
    "    sqrt(p.x^2 + p.y^2)\n",
    "end\n",
    "\n",
    "#the above method can only be applied to Point{Real}\n",
    "\n",
    "function norm(p::Point{<:Real})\n",
    "    sqrt(p.x^2 + p.y^2)\n",
    "end\n",
    "\n",
    "#the above method can only be applied to all Point{T} where T is a subtype of Real\n",
    "\n",
    "#The following are equivalent definitions of the previous function\n",
    "\n",
    "function norm(p::Point{T} where T<:Real)\n",
    "    sqrt(p.x^2 + p.y^2)\n",
    "end\n",
    "\n",
    "function norm(p::Point{T}) where T<:Real\n",
    "    sqrt(p.x^2 + p.y^2)\n",
    "end"
   ]
  },
  {
   "cell_type": "markdown",
   "id": "2728a954",
   "metadata": {},
   "source": [
    "## Type Union\n",
    "***\n",
    "A type union is a special abstract type which includes as objects all instances of any of its argument types."
   ]
  },
  {
   "cell_type": "code",
   "execution_count": 33,
   "id": "a3f4cbc6",
   "metadata": {},
   "outputs": [
    {
     "data": {
      "text/plain": [
       "Union{Int64, AbstractString}"
      ]
     },
     "execution_count": 33,
     "metadata": {},
     "output_type": "execute_result"
    }
   ],
   "source": [
    "IntOrString = Union{Int,AbstractString}"
   ]
  },
  {
   "cell_type": "code",
   "execution_count": 34,
   "id": "9a07d083",
   "metadata": {},
   "outputs": [
    {
     "data": {
      "text/plain": [
       "\"Hello\""
      ]
     },
     "execution_count": 34,
     "metadata": {},
     "output_type": "execute_result"
    }
   ],
   "source": [
    "1 :: IntOrString\n",
    "\"Hello\" :: IntOrString"
   ]
  },
  {
   "cell_type": "code",
   "execution_count": 38,
   "id": "07cf7676",
   "metadata": {},
   "outputs": [
    {
     "ename": "LoadError",
     "evalue": "TypeError: in typeassert, expected Union{Int64, AbstractString}, got a value of type Float64",
     "output_type": "error",
     "traceback": [
      "TypeError: in typeassert, expected Union{Int64, AbstractString}, got a value of type Float64",
      "",
      "Stacktrace:",
      " [1] top-level scope",
      "   @ In[38]:1"
     ]
    }
   ],
   "source": [
    "1.0 :: IntOrString #This raises an error because IntOrString can either be an Int or an AbsrtactString"
   ]
  },
  {
   "cell_type": "markdown",
   "id": "9e314c86",
   "metadata": {},
   "source": [
    "A particularly useful case of a Union type is Union{T, Nothing}. Declaring a function argument or a field as Union{T, Nothing} allows setting it either to a value of type T, or to nothing to indicate that there is no value."
   ]
  },
  {
   "cell_type": "markdown",
   "id": "f95212dd",
   "metadata": {},
   "source": [
    "**Note: there are many other types that I will not Discuss. If you're interested, you can check the documentation.**"
   ]
  }
 ],
 "metadata": {
  "kernelspec": {
   "display_name": "Julia 1.8.5",
   "language": "julia",
   "name": "julia-1.8"
  },
  "language_info": {
   "file_extension": ".jl",
   "mimetype": "application/julia",
   "name": "julia",
   "version": "1.8.5"
  }
 },
 "nbformat": 4,
 "nbformat_minor": 5
}
